{
 "cells": [
  {
   "cell_type": "markdown",
   "metadata": {},
   "source": [
    "# Bootstrap generate album pages with tags (vertically alligned)"
   ]
  },
  {
   "cell_type": "markdown",
   "metadata": {},
   "source": [
    "Data Sources\n",
    "- https://www.flaticon.com"
   ]
  },
  {
   "cell_type": "markdown",
   "metadata": {},
   "source": [
    "## Setup"
   ]
  },
  {
   "cell_type": "code",
   "execution_count": 1,
   "metadata": {},
   "outputs": [],
   "source": [
    "random_phrases = ['Lorem ipsum dolor sit amet, quo malis assum iisque ea, prompta forensibus te sit. Qui vitae tollit te. Legendos sensibus et mel, usu ne graeci eruditi pertinax. Id vel quot facer.'\n",
    ",'Ius in clita recusabo pertinacia, ut mazim incorrupte nec, persius habemus id ius. Ea ignota verterem vix, te movet lucilius mel. Cu his alii aperiam, dicant omnesque delicata ex usu. Debet vitae fabulas sed ad, ex cum nihil putant vocent. Summo mucius at vel, est at legimus instructior. Eos no erat vituperatoribus, inani detraxit has ut.'\n",
    ",'Probo labore malorum at nec, ut cibo euismod vituperata sea. Semper tibique dolores eos id, quo ei clita singulis neglegentur. Duo prompta virtute nonumes ex. In solum commune disputando vim, eum clita verterem ea. Usu laudem eirmod et.'\n",
    ",'Duo id aperiri apeirian, in nec quidam dolorum adipiscing, has ex possim iuvaret. Iudico epicurei nam an, nonumy partiendo signiferumque vel ei. Ne vitae legendos sea, errem maiorum per et. Graece graeco qualisque ius id, feugait democritum conclusionemque eum no.'\n",
    ",'Ea soleat honestatis vix. An sea meis movet scaevola. Nam veritus antiopam omittantur in, vis eu consulatu temporibus, sale iriure animal per an. Erant tritani habemus pri no, ne duo posse mollis.']"
   ]
  },
  {
   "cell_type": "markdown",
   "metadata": {},
   "source": [
    "### Google fonts dictionary"
   ]
  },
  {
   "cell_type": "code",
   "execution_count": 31,
   "metadata": {},
   "outputs": [],
   "source": [
    "google_fonts = {\"bootstrap\":{\"link\":'',\n",
    "                            \"specify\":'',\n",
    "                            \"url\":None},\n",
    "                \n",
    "                \"raleway\":{\"link\":'<link href=\"https://fonts.googleapis.com/css?family=Raleway\" rel=\"stylesheet\">',\n",
    "                          \"specify\":\"font-family: 'Raleway', sans-serif;\",\n",
    "                          \"url\":\"https://fonts.google.com/specimen/Raleway?selection.family=Raleway\"},\n",
    "                \n",
    "                \"open_sans\":{\"link\":'<link href=\"https://fonts.googleapis.com/css?family=Open+Sans\" rel=\"stylesheet\">',\n",
    "                        \"specify\":\"font-family: 'Open Sans', sans-serif;\",\n",
    "                       \"url\":\"https://fonts.google.com/specimen/Open+Sans?selection.family=Open+Sans\"},\n",
    "                \n",
    "                \"roboto\":{\"link\":'<link href=\"https://fonts.googleapis.com/css?family=Roboto\" rel=\"stylesheet\">',\n",
    "                         \"specify\":\"font-family: 'Roboto', sans-serif;\",\n",
    "                         \"url\":\"https://fonts.google.com/specimen/Roboto?selection.family=Roboto\"},\n",
    "                \n",
    "    \"ubuntu\":{\"link\":'<link href=\"https://fonts.googleapis.com/css?family=Ubuntu\" rel=\"stylesheet\"> ',\n",
    "                         \"specify\":\"font-family: 'Ubuntu', sans-serif;\",\n",
    "                         \"url\": \"https://fonts.google.com/specimen/Ubuntu?selection.family=Ubuntu\"}}"
   ]
  },
  {
   "cell_type": "markdown",
   "metadata": {},
   "source": [
    "### Set font for website"
   ]
  },
  {
   "cell_type": "code",
   "execution_count": 32,
   "metadata": {},
   "outputs": [
    {
     "name": "stdout",
     "output_type": "stream",
     "text": [
      "Font set to ubuntu\n"
     ]
    }
   ],
   "source": [
    "selected_font = \"ubuntu\"\n",
    "\n",
    "if selected_font not in google_fonts.keys():\n",
    "    print(\"The font chosen is not available. Please choose one from: \\n{}\".format(list(google_fonts.keys())))\n",
    "else:\n",
    "    print(\"Font set to {}\".format(selected_font))\n",
    "    \n",
    "    set_link = google_fonts[selected_font][\"link\"]\n",
    "    set_style = google_fonts[selected_font][\"specify\"]"
   ]
  },
  {
   "cell_type": "markdown",
   "metadata": {},
   "source": [
    "### Import modules"
   ]
  },
  {
   "cell_type": "code",
   "execution_count": 4,
   "metadata": {},
   "outputs": [],
   "source": [
    "import os\n",
    "import pandas\n",
    "import bs4\n",
    "import math\n",
    "import datetime\n",
    "import random"
   ]
  },
  {
   "cell_type": "markdown",
   "metadata": {},
   "source": [
    "### Set html colour codes "
   ]
  },
  {
   "cell_type": "code",
   "execution_count": 5,
   "metadata": {},
   "outputs": [],
   "source": [
    "jumbotron_background = \"#1d91c0\"\n",
    "jumbotron_foreground = \"#FFFFFF\"\n",
    "outline_button = \"dark\"\n",
    "card_header_foreground = \"#44494a\"\n",
    "card_header_background = \"#FFFFFF\"\n",
    "navbar_background = \"#414242\"\n",
    "footer_background = \"#414242\"\n",
    "badge_pill_background = \"#1d91c0\"\n",
    "badge_pill_foreground  = \"#FFFFFF\""
   ]
  },
  {
   "cell_type": "markdown",
   "metadata": {},
   "source": [
    "### Set SVG flag, items per page"
   ]
  },
  {
   "cell_type": "code",
   "execution_count": 6,
   "metadata": {},
   "outputs": [],
   "source": [
    "items_per_page = 12\n",
    "\n",
    "svg = True\n",
    "\n",
    "if svg == True:\n",
    "    visual_tag_start = '<object class = \"p-1\" height=100% width=100% type=\"image/svg+xml\" data=\"'\n",
    "    visual_tag_end = '\">Your browser does not support SVG</object>'\n",
    "else:\n",
    "    visual_tag_start = '<img class=\"card-img-top p-3\" src=\"'\n",
    "    visual_tag_end = '\" alt=\"Card image cap\">'"
   ]
  },
  {
   "cell_type": "markdown",
   "metadata": {},
   "source": [
    "### Set enabled/disabled variables used to switch buttons between enabled and disabled modes"
   ]
  },
  {
   "cell_type": "code",
   "execution_count": 7,
   "metadata": {},
   "outputs": [],
   "source": [
    "nothing = ''\n",
    "disabled = 'disabled'"
   ]
  },
  {
   "cell_type": "markdown",
   "metadata": {},
   "source": [
    "### Set Data Path and html path"
   ]
  },
  {
   "cell_type": "code",
   "execution_count": 8,
   "metadata": {},
   "outputs": [],
   "source": [
    "data_path = \"./pokemon_svg/\"\n",
    "html_path = \"./\""
   ]
  },
  {
   "cell_type": "code",
   "execution_count": 9,
   "metadata": {},
   "outputs": [
    {
     "data": {
      "text/plain": [
       "'pokemon_svg/'"
      ]
     },
     "execution_count": 9,
     "metadata": {},
     "output_type": "execute_result"
    }
   ],
   "source": [
    "data_path_items = data_path.split(\"/\")\n",
    "data_path_short = data_path_items[len(data_path_items) - 2] + \"/\"\n",
    "data_path_short"
   ]
  },
  {
   "cell_type": "markdown",
   "metadata": {},
   "source": [
    "## Read in files"
   ]
  },
  {
   "cell_type": "markdown",
   "metadata": {},
   "source": [
    "### Read filenames from data_path variable"
   ]
  },
  {
   "cell_type": "code",
   "execution_count": 10,
   "metadata": {},
   "outputs": [],
   "source": [
    "all_filenames = [file for file in os.listdir(data_path) if 'DS_Store' not in file]"
   ]
  },
  {
   "cell_type": "markdown",
   "metadata": {},
   "source": [
    "### Store filenames in dataframe"
   ]
  },
  {
   "cell_type": "code",
   "execution_count": 11,
   "metadata": {},
   "outputs": [],
   "source": [
    "data = pandas.DataFrame()\n",
    "data[\"filename\"] = pandas.Series(all_filenames)"
   ]
  },
  {
   "cell_type": "markdown",
   "metadata": {},
   "source": [
    "### Create tags for testing purposes\n",
    "- Create list of possible tags, this is arbitrary\n",
    "- For each row in dataset containing filenames, calculate a random number (number of tags for this particular file), then for each increment of this random number assign a random tag from test_tags list"
   ]
  },
  {
   "cell_type": "code",
   "execution_count": 12,
   "metadata": {},
   "outputs": [],
   "source": [
    "test_tags = [\"blue\", \"red\", \"yellow\", \"purple\", \"grey\", \"white\", \"black\", \"teal\", \"orange\",\n",
    "            \"silver\", \"pink\", \"brown\"]"
   ]
  },
  {
   "cell_type": "code",
   "execution_count": 13,
   "metadata": {},
   "outputs": [],
   "source": [
    "for index in range(data.shape[0]):\n",
    "    \n",
    "    temp_tags = \"\"\n",
    "    number_of_tags = random.randint(1,7)    \n",
    "    \n",
    "    for sub_index in range(number_of_tags):\n",
    "        tag_index = random.randint(0,len(test_tags)-1)\n",
    "        test_tag = test_tags[tag_index]\n",
    "        \n",
    "        if temp_tags == \"\":\n",
    "            temp_tags = temp_tags + test_tag\n",
    "        else:\n",
    "            temp_tags = temp_tags + \",\" +test_tag\n",
    "    \n",
    "    data.loc[index, \"tag\"] = temp_tags"
   ]
  },
  {
   "cell_type": "markdown",
   "metadata": {},
   "source": [
    "## Extract tags from dataframe"
   ]
  },
  {
   "cell_type": "code",
   "execution_count": 14,
   "metadata": {},
   "outputs": [],
   "source": [
    "tags = data[\"tag\"].tolist()"
   ]
  },
  {
   "cell_type": "code",
   "execution_count": 15,
   "metadata": {},
   "outputs": [],
   "source": [
    "tagstring =\"\"\n",
    "\n",
    "for tag in tags:\n",
    "    if tag is not None:\n",
    "        tagstring = tagstring +\",\"+ tag"
   ]
  },
  {
   "cell_type": "code",
   "execution_count": 16,
   "metadata": {},
   "outputs": [],
   "source": [
    "tagstring = tagstring.lower().strip()"
   ]
  },
  {
   "cell_type": "code",
   "execution_count": 17,
   "metadata": {},
   "outputs": [],
   "source": [
    "many_tags = tagstring.split(\",\")"
   ]
  },
  {
   "cell_type": "markdown",
   "metadata": {},
   "source": [
    "### Clean tags, lowercase and strip\n",
    "- Mutate each item in many_tags with lowercase and whitespace trim\n",
    "- Remove any item in many_tags with a length of 0\n",
    "- Create a new list no_dupes this will be used to store unique tags, and will later be used in a dictionary as keys"
   ]
  },
  {
   "cell_type": "code",
   "execution_count": 18,
   "metadata": {},
   "outputs": [],
   "source": [
    "for index in range(len(many_tags)):\n",
    "    many_tags[index] = many_tags[index].lower().strip()"
   ]
  },
  {
   "cell_type": "code",
   "execution_count": 19,
   "metadata": {},
   "outputs": [],
   "source": [
    "for item in many_tags:\n",
    "    if len(item) == 0:\n",
    "        many_tags.remove(item)"
   ]
  },
  {
   "cell_type": "code",
   "execution_count": 20,
   "metadata": {},
   "outputs": [
    {
     "name": "stdout",
     "output_type": "stream",
     "text": [
      "['black', 'blue', 'brown', 'grey', 'orange', 'pink', 'purple', 'red', 'silver', 'teal', 'white', 'yellow']\n"
     ]
    }
   ],
   "source": [
    "no_dupes = sorted(list(set(many_tags)))\n",
    "print(no_dupes)"
   ]
  },
  {
   "cell_type": "markdown",
   "metadata": {},
   "source": [
    "### Create dictionary to store indices for each tag\n",
    "- Create the dictionary to store each unique tag, tags will be used to filter items\n",
    "- Iterate through and its associated indices (each index for each filename associated with that tag)\n",
    "- Finally add an 'index' key with all indices, this will be used as an unfiltered set of pages\n",
    "- Preview dictionary to validate tag/index assignment"
   ]
  },
  {
   "cell_type": "code",
   "execution_count": 21,
   "metadata": {},
   "outputs": [
    {
     "name": "stdout",
     "output_type": "stream",
     "text": [
      "defaultdict(<class 'list'>, {'black': [1, 6, 8, 13, 14, 22, 26, 27, 31, 33, 41, 44, 48, 51, 53, 56, 63, 66, 71, 73, 74, 83, 87, 88, 94, 98, 99], 'blue': [2, 4, 9, 10, 12, 16, 20, 22, 28, 29, 30, 34, 36, 43, 45, 49, 50, 51, 53, 55, 56, 57, 58, 62, 65, 79, 80, 84, 87, 92, 96], 'brown': [1, 4, 11, 12, 14, 15, 16, 23, 30, 32, 33, 35, 45, 47, 48, 51, 52, 54, 55, 58, 62, 63, 65, 67, 71, 72, 75, 88, 95, 96, 97, 98], 'grey': [1, 3, 10, 11, 14, 17, 24, 26, 30, 31, 33, 34, 35, 46, 51, 64, 65, 73, 74, 88, 90, 91, 98], 'orange': [3, 9, 14, 15, 18, 20, 21, 23, 27, 35, 45, 52, 53, 59, 61, 62, 70, 71, 76, 83, 85, 89, 93, 94, 98], 'pink': [3, 6, 9, 13, 23, 27, 30, 33, 38, 44, 51, 56, 59, 61, 62, 63, 65, 66, 68, 69, 77, 81, 82, 84, 88, 89, 90, 91, 92, 93, 99], 'purple': [0, 3, 15, 20, 21, 26, 33, 35, 37, 48, 55, 59, 60, 65, 66, 73, 74, 81, 85, 88, 90, 92, 95], 'red': [1, 5, 6, 8, 10, 13, 19, 20, 22, 23, 26, 27, 32, 33, 35, 37, 40, 42, 43, 57, 58, 63, 65, 66, 69, 71, 76, 78, 80, 81, 85, 88, 93, 98], 'silver': [0, 2, 6, 7, 14, 15, 19, 21, 27, 30, 31, 37, 48, 53, 55, 56, 57, 62, 63, 66, 80, 93], 'teal': [1, 2, 3, 4, 8, 9, 12, 19, 21, 27, 36, 37, 44, 45, 47, 48, 53, 57, 61, 62, 65, 71, 72, 74, 77, 86, 87, 88, 89, 91, 93, 94, 96, 98], 'white': [5, 9, 10, 12, 13, 18, 22, 25, 34, 37, 44, 47, 49, 56, 58, 63, 70, 73, 80, 81, 91, 92, 94, 95, 98], 'yellow': [6, 7, 10, 14, 20, 22, 32, 34, 39, 43, 44, 47, 51, 52, 53, 55, 61, 68, 72, 74, 77, 78, 80, 84, 92], 'index': [0, 1, 2, 3, 4, 5, 6, 7, 8, 9, 10, 11, 12, 13, 14, 15, 16, 17, 18, 19, 20, 21, 22, 23, 24, 25, 26, 27, 28, 29, 30, 31, 32, 33, 34, 35, 36, 37, 38, 39, 40, 41, 42, 43, 44, 45, 46, 47, 48, 49, 50, 51, 52, 53, 54, 55, 56, 57, 58, 59, 60, 61, 62, 63, 64, 65, 66, 67, 68, 69, 70, 71, 72, 73, 74, 75, 76, 77, 78, 79, 80, 81, 82, 83, 84, 85, 86, 87, 88, 89, 90, 91, 92, 93, 94, 95, 96, 97, 98, 99]})\n"
     ]
    }
   ],
   "source": [
    "from collections import defaultdict\n",
    "\n",
    "dic = defaultdict(list)\n",
    "\n",
    "for tag in no_dupes:\n",
    "    for index in range(data.shape[0]):\n",
    "        current_tag = data.loc[index, \"tag\"]\n",
    "        if tag in current_tag:\n",
    "            dic[tag].append(index)\n",
    "\n",
    "dic[\"index\"] = list(data.index)\n",
    "\n",
    "print(dic)"
   ]
  },
  {
   "cell_type": "markdown",
   "metadata": {},
   "source": [
    "## Templates"
   ]
  },
  {
   "cell_type": "markdown",
   "metadata": {},
   "source": [
    "### Jumbotron"
   ]
  },
  {
   "cell_type": "code",
   "execution_count": 22,
   "metadata": {},
   "outputs": [],
   "source": [
    "jumbotron_home = '''\n",
    "<div class=\"jumbotron jumbotron-fluid text-center m-0\" style = \"color: '''+jumbotron_foreground+'''; background-color:'''+jumbotron_background+''';\">\n",
    "      <div class=\"container\">\n",
    "        <h1 class=\"display-2\">\n",
    "          Daniels Generated Album\n",
    "        </h1>\n",
    "        <p class=\"lead\">\n",
    "          Something short and leading about the collection below—its contents, the creator, etc. Make it short and sweet, but not too short so folks don't simply skip over it entirely.\n",
    "        </p>\n",
    "        <p>\n",
    "          <a class=\"btn btn-outline-light my-2\" href=\"#\">\n",
    "          Primary\n",
    "          </a>\n",
    "          <a class=\"btn btn-outline-light my-2\" href=\"#\">\n",
    "          Secondary\n",
    "          </a>\n",
    "        </p>\n",
    "      </div>\n",
    "    </div>\n",
    "'''\n",
    "\n",
    "jumbotron_empty = ''"
   ]
  },
  {
   "cell_type": "markdown",
   "metadata": {},
   "source": [
    "### Pagination - Variable"
   ]
  },
  {
   "cell_type": "code",
   "execution_count": 23,
   "metadata": {},
   "outputs": [],
   "source": [
    "pagination = '<div class = \"text-center pb-4 text-muted bg-light\">\\\n",
    "  <div class = \"btn-group\">\\\n",
    "    <a href = \"{}{}.html\" class = \"btn btn-outline-'+outline_button+' {}\">First</a>\\\n",
    "    <a href = \"{}{}.html\" class = \"btn btn-outline-'+outline_button+' {}\">Previous</a>\\\n",
    "    <a class = \"btn btn-outline-'+outline_button+' active\">Page {}</a>\\\n",
    "    <a href = \"{}{}.html\" class = \"btn btn-outline-'+outline_button+' {}\">Next</a>\\\n",
    "    <a href = \"{}{}.html\"class = \"btn btn-outline-'+outline_button+' {}\">Last</a>\\\n",
    "  </div>\\\n",
    "</div>'\n",
    "\n",
    "pagination2 = '''\n",
    "<div class = \"text-center pb-4 text-muted bg-light\">\n",
    "  <div class = \"btn-group\">\n",
    "    <a class = \"btn btn-outline-'+outline_button+' active\">Page {}</a>\n",
    "  </div>\n",
    "</div>\n",
    "'''"
   ]
  },
  {
   "cell_type": "markdown",
   "metadata": {},
   "source": [
    "### Skeleton"
   ]
  },
  {
   "cell_type": "code",
   "execution_count": 24,
   "metadata": {},
   "outputs": [],
   "source": [
    "skeleton = '''\n",
    "<!DOCTYPE html>\n",
    "<html lang=\"en\">\n",
    "  <head>\n",
    "    <meta charset=\"utf-8\"/>\n",
    "    <meta content=\"width=device-width, initial-scale=1, shrink-to-fit=no\" name=\"viewport\"/>\n",
    "    <meta content=\"\" name=\"description\"/>\n",
    "    <meta content=\"\" name=\"author\"/>\n",
    "    <link href=\"../../../../favicon.ico\" rel=\"icon\"/>\n",
    "    <title>\n",
    "      Daniels Generated Gallery\n",
    "    </title>\n",
    "    <!-- Bootstrap CSS -->\n",
    "    ''' + set_link + '''\n",
    "    <link crossorigin=\"anonymous\" href=\"https://stackpath.bootstrapcdn.com/bootstrap/4.1.1/css/bootstrap.min.css\" integrity=\"sha384-WskhaSGFgHYWDcbwN70/dfYBj47jz9qbsMId/iRN3ewGhXQFZCSftd1LZCfmhktB\" rel=\"stylesheet\"/>\n",
    "    <!-- Custom styles for this template -->\n",
    "    <link href=\"album.css\" rel=\"stylesheet\"/>\n",
    "  </head>\n",
    "  <body class = \"bg-light\" style = \"'''+set_style+'''\">\n",
    "    <header style = \"background-color:'''+navbar_background+''';\">\n",
    "       <div class=\"container\">\n",
    "        <nav class=\"navbar navbar-expand-lg navbar-dark py-1\" style = \"background-color:'''+navbar_background+''';\">\n",
    "         <a class=\"navbar-brand\" href=\"#\">\n",
    "          <img alt=\"\" class=\"d-inline-block\" height=\"36\" src=\"logo/analytics.svg\" width=\"36\"/>\n",
    "         </a>\n",
    "         <button aria-controls=\"navbarColor03\" aria-expanded=\"false\" aria-label=\"Toggle navigation\" class=\"navbar-toggler collapsed\" data-target=\"#navbarColor03\" data-toggle=\"collapse\" type=\"button\">\n",
    "          <span class=\"navbar-toggler-icon\">\n",
    "          </span>\n",
    "         </button>\n",
    "         <div class=\"navbar-collapse collapse\" id=\"navbarColor03\" style=\"\">\n",
    "          <ul class=\"navbar-nav mr-auto\">\n",
    "           <li class=\"nav-item active\">\n",
    "            <a class=\"nav-link\" href=\"index0.html\">\n",
    "             Home\n",
    "             <span class=\"sr-only\">\n",
    "              (current)\n",
    "             </span>\n",
    "            </a>\n",
    "           </li>\n",
    "           <li class=\"nav-item\">\n",
    "            <a class=\"nav-link\" href=\"#\">\n",
    "             About\n",
    "            </a>\n",
    "           </li>\n",
    "           <li class=\"nav-item\">\n",
    "            <a class=\"nav-link\" href=\"#\">\n",
    "             Donate\n",
    "            </a>\n",
    "           </li>\n",
    "           <li class=\"nav-item\">\n",
    "            <a class=\"nav-link\" href=\"#\">\n",
    "             Community\n",
    "            </a>\n",
    "           </li>\n",
    "           <li class=\"nav-item\">\n",
    "            <a class=\"nav-link\" href=\"#\">\n",
    "             Contact Us\n",
    "            </a>\n",
    "           </li>\n",
    "          </ul>\n",
    "         </div>\n",
    "    </nav>\n",
    "   </div>\n",
    "  </header>\n",
    "    \n",
    "    \n",
    "    {}\n",
    "    \n",
    "    \n",
    "    \n",
    "    <div class=\"album bg-light\">\n",
    "      <div class=\"container\">\n",
    "        <div class=\"row mt-3\">\n",
    "          \n",
    "          {}\n",
    "        \n",
    "        \n",
    "        </div>\n",
    "      </div>\n",
    "    </div>\n",
    "    \n",
    "    {}\n",
    "    \n",
    "    <footer class=\"text-light py-3\" style = \"background-color: '''+footer_background+''';\">\n",
    "      <div class=\"container\">\n",
    "        <span>&copy; Copyright DanielsGenerator</span>\n",
    "        <span class=\"float-right\">\n",
    "        <a href=\"#\">\n",
    "        Back to top\n",
    "        </a>\n",
    "        </span>\n",
    "      </div>\n",
    "    </footer>\n",
    "    <!-- Optional JavaScript -->\n",
    "    <!-- jQuery first, then Popper.js, then Bootstrap JS -->\n",
    "    <script crossorigin=\"anonymous\" integrity=\"sha384-q8i/X+965DzO0rT7abK41JStQIAqVgRVzpbzo5smXKp4YfRvH+8abtTE1Pi6jizo\" src=\"https://code.jquery.com/jquery-3.3.1.slim.min.js\"></script>\n",
    "    <script crossorigin=\"anonymous\" integrity=\"sha384-ZMP7rVo3mIykV+2+9J3UJ46jBk0WLaUAdn689aCwoqbBJiSnjAK/l8WvCWPIPm49\" src=\"https://cdnjs.cloudflare.com/ajax/libs/popper.js/1.14.3/umd/popper.min.js\"></script>\n",
    "    <script crossorigin=\"anonymous\" integrity=\"sha384-smHYKdLADwkXOn1EmN1qk/HfnUcbVRZyYmZ4qpPea6sjB/pTJ0euyQp0Mk8ck+5T\" src=\"https://stackpath.bootstrapcdn.com/bootstrap/4.1.1/js/bootstrap.min.js\"></script>\n",
    "  </body>\n",
    "</html>\n",
    "'''"
   ]
  },
  {
   "cell_type": "markdown",
   "metadata": {},
   "source": [
    "## Delete all .html files in directory before Process"
   ]
  },
  {
   "cell_type": "code",
   "execution_count": 25,
   "metadata": {},
   "outputs": [
    {
     "data": {
      "text/plain": [
       "[]"
      ]
     },
     "execution_count": 25,
     "metadata": {},
     "output_type": "execute_result"
    }
   ],
   "source": [
    "[os.remove(html_path + file) for file in os.listdir(html_path) if '.html' in file]"
   ]
  },
  {
   "cell_type": "markdown",
   "metadata": {},
   "source": [
    "## Process\n",
    "\n",
    "\n",
    "- **ITERATE THROUGH EACH TAG IN DICTIONARY** (the higest level)\n",
    "    - Store `tag` variable, `page_prefix` variable and `subset_indices`\n",
    "    - Work out total items within the current `tag`\n",
    "    - Work out `excess_items`, to determine how many pages will be required for current `tag`\n",
    "    - Workout how many items in the `dic` tag list of indices will be included in each page using `items_per_page` and `total_pages variable`\n",
    "    - Calculate `first_index` and `last_index`\n",
    "\n",
    "\n",
    "- **ITERATE THROUGH EACH PAGE IN NESTED_PAGE_INDICES** (second level, represents html pages, containing `items_per_page` items)\n",
    "    - Calculate `previous_index` and `next_index`, used for pagination linking\n",
    "    - Calculate pagination html\n",
    "    - Calculate which jumbotron variable to use\n",
    "    - Create column variables\n",
    "\n",
    "\n",
    "\n",
    "- **ITERATE THROUGH EACH PAGE IN PAGE_LEVEL_INDICES** (lowest level, represents filenames)\n",
    "    - Calculate `filename` and `filetags` variables\n",
    "    - Calculate html block using `filetags` variable\n",
    "    - Calculate the body html, this is comprised of column variables, each storing a dynamic amount of card html code"
   ]
  },
  {
   "cell_type": "code",
   "execution_count": 26,
   "metadata": {},
   "outputs": [
    {
     "name": "stdout",
     "output_type": "stream",
     "text": [
      "Processing dic key black\n",
      "\tFile successfully written to ./black0.html\n",
      "\tFile successfully written to ./black1.html\n",
      "\tFile successfully written to ./black2.html\n",
      "Processing dic key blue\n",
      "\tFile successfully written to ./blue0.html\n",
      "\tFile successfully written to ./blue1.html\n",
      "\tFile successfully written to ./blue2.html\n",
      "Processing dic key brown\n",
      "\tFile successfully written to ./brown0.html\n",
      "\tFile successfully written to ./brown1.html\n",
      "\tFile successfully written to ./brown2.html\n",
      "Processing dic key grey\n",
      "\tFile successfully written to ./grey0.html\n",
      "\tFile successfully written to ./grey1.html\n",
      "Processing dic key orange\n",
      "\tFile successfully written to ./orange0.html\n",
      "\tFile successfully written to ./orange1.html\n",
      "\tFile successfully written to ./orange2.html\n",
      "Processing dic key pink\n",
      "\tFile successfully written to ./pink0.html\n",
      "\tFile successfully written to ./pink1.html\n",
      "\tFile successfully written to ./pink2.html\n",
      "Processing dic key purple\n",
      "\tFile successfully written to ./purple0.html\n",
      "\tFile successfully written to ./purple1.html\n",
      "Processing dic key red\n",
      "\tFile successfully written to ./red0.html\n",
      "\tFile successfully written to ./red1.html\n",
      "\tFile successfully written to ./red2.html\n",
      "Processing dic key silver\n",
      "\tFile successfully written to ./silver0.html\n",
      "\tFile successfully written to ./silver1.html\n",
      "Processing dic key teal\n",
      "\tFile successfully written to ./teal0.html\n",
      "\tFile successfully written to ./teal1.html\n",
      "\tFile successfully written to ./teal2.html\n",
      "Processing dic key white\n",
      "\tFile successfully written to ./white0.html\n",
      "\tFile successfully written to ./white1.html\n",
      "\tFile successfully written to ./white2.html\n",
      "Processing dic key yellow\n",
      "\tFile successfully written to ./yellow0.html\n",
      "\tFile successfully written to ./yellow1.html\n",
      "\tFile successfully written to ./yellow2.html\n",
      "Processing dic key index\n",
      "\tFile successfully written to ./index0.html\n",
      "\tFile successfully written to ./index1.html\n",
      "\tFile successfully written to ./index2.html\n",
      "\tFile successfully written to ./index3.html\n",
      "\tFile successfully written to ./index4.html\n",
      "\tFile successfully written to ./index5.html\n",
      "\tFile successfully written to ./index6.html\n",
      "\tFile successfully written to ./index7.html\n",
      "\tFile successfully written to ./index8.html\n"
     ]
    }
   ],
   "source": [
    "#ITERATE THROUGH EACH TAG IN DICTIONARY\n",
    "\n",
    "for tag in dic.keys():\n",
    "    \n",
    "    print('Processing dic key', tag)\n",
    "    \n",
    "    \n",
    "    page_prefix = tag\n",
    "    subset_indices = dic[tag]\n",
    "\n",
    "    #WORK OUT TOTAL ITEMS\n",
    "    total_items = len(dic[tag])\n",
    "    \n",
    "    #WORK OUT HOW MUCH EXCESS ITEMS\n",
    "    excess_items = total_items % items_per_page\n",
    "    \n",
    "    # CALCULATE HOW MANY PAGES WILL BE REQUIRED\n",
    "    if excess_items > 0:\n",
    "        total_pages = int(math.floor(total_items/items_per_page) + 1)\n",
    "    else:\n",
    "        total_pages = int(total_items/items_per_page)\n",
    "        \n",
    "    index_starter = 0\n",
    "    nested_page_indices = []\n",
    "    \n",
    "    # CALCULATE GROUPINGS OF FILES PER PAGE AND STORE IN A LIST OF LISTS\n",
    "    if total_pages > 0:\n",
    "        for index in range(total_pages):\n",
    "            small_list = subset_indices[index_starter: index_starter + items_per_page]\n",
    "            nested_page_indices.append(small_list)\n",
    "            index_starter = index_starter + items_per_page\n",
    "    \n",
    "    #CALCULATE INDEX FOR FIRST, LAST PAGES\n",
    "    first_index = 0\n",
    "    last_index = len(nested_page_indices) - 1\n",
    "    \n",
    "    #ITERATE THROUGH EACH PAGE IN NESTED_PAGE_INDICES\n",
    "    \n",
    "    for index in range(len(nested_page_indices)):\n",
    "    \n",
    "        # WORK OUT INDEX FOR PAGES LATERALLY\n",
    "        previous_index = index -1\n",
    "        next_index = index +1\n",
    "\n",
    "        body_final = ''\n",
    "        page_items = nested_page_indices[index]\n",
    "        page_number = index + 1\n",
    "\n",
    "        #PAGINATION\n",
    "        if total_pages == 1:\n",
    "            pagination_final = pagination2.format(page_number)\n",
    "        else:\n",
    "            if index ==0:\n",
    "                pagination_final = pagination.format(page_prefix, first_index,disabled,page_prefix,  previous_index, disabled, page_number,\n",
    "                                                    page_prefix, next_index, nothing, page_prefix, last_index, nothing)\n",
    "            elif index == last_index:\n",
    "                pagination_final = pagination.format(page_prefix, first_index, nothing, page_prefix, previous_index, nothing, page_number,\n",
    "                                                    page_prefix, next_index, disabled, page_prefix, last_index, disabled)\n",
    "            else:\n",
    "                pagination_final = pagination.format(page_prefix,first_index, nothing,page_prefix, previous_index, nothing, page_number,\n",
    "                                                    page_prefix, next_index, nothing, page_prefix, last_index, nothing)\n",
    "\n",
    "        if index == 0:\n",
    "            jumbotron_final = jumbotron_home\n",
    "        else:\n",
    "            jumbotron_final = jumbotron_empty\n",
    "\n",
    "        page_level_indices = nested_page_indices[index]\n",
    "\n",
    "        item_number = 1\n",
    "        \n",
    "        # CREATE EMPTY CARDS\n",
    "            \n",
    "        cards = ''\n",
    "        \n",
    "        # FILE LEVEL LOOP\n",
    "        for index2, sub_index in enumerate(page_level_indices):\n",
    "            \n",
    "            filename = data.loc[sub_index, \"filename\"]\n",
    "            filetags = data.loc[sub_index, \"tag\"]\n",
    "\n",
    "            tags_split = filetags.split(\",\")\n",
    "            tags_html_block = \"\"\n",
    "\n",
    "            for tag_name in tags_split:\n",
    "                tags_html_block = tags_html_block + \\\n",
    "                '<a href = \"'+tag_name+'0.html\" class = \"badge badge-pill\" style = \"color:'+badge_pill_foreground+' ;background-color:'+badge_pill_background+';\">'+tag_name+'</a>'\n",
    "\n",
    "            item_number += 1\n",
    "\n",
    "            filename_short = filename.replace(\".png\", \"\")\n",
    "            \n",
    "            random_text_index = random.randint(1,len(random_phrases) - 1)\n",
    "            random_text = random_phrases[random_text_index]\n",
    "            \n",
    "\n",
    "            cards = cards + '\\\n",
    "            <section class = \"col-lg-4 col-md-6 mb-4\">\\\n",
    "                <div class=\"card\">\\\n",
    "                    <div class = \"card-header p-3\" style = \"background-color: '+card_header_background+';\">\\\n",
    "                        <h5 class = \"p-0 m-0\">Source: '+filename_short+'</h5>\\\n",
    "                        <div class = \"card-subtitle p-0 m-0 text-muted\">A subtitle about flowers</div>\\\n",
    "                    </div>\\\n",
    "                      ' + visual_tag_start + data_path_short + filename + visual_tag_end + '\\\n",
    "                    <div class=\"card-body\">\\\n",
    "                      <p class=\"card-text\">' + random_text + '</p>\\\n",
    "                        <div class=\"btn-group p-0 m-0\">\\\n",
    "                          <a class=\"btn btn-sm btn-outline-'+outline_button+'\" href=\"'+data_path_short + filename+'\" role=\"button\">View</a>\\\n",
    "                          <a class=\"btn btn-sm btn-outline-'+outline_button+'\" href = \"'+data_path_short + filename+'\" download = \"'+filename+'\" role=\"button\">Download</a>\\\n",
    "                        </div>\\\n",
    "                    </div>\\\n",
    "                    <div class = \"p-3 bg-light\">\\\n",
    "                      '+tags_html_block+'\\\n",
    "                    </div>\\\n",
    "                  </div>\\\n",
    "                </section>'\n",
    "            \n",
    "        # BUILD FULL HTML CODE ON PAGE LEVEL\n",
    "        full = skeleton.format(jumbotron_final, \n",
    "                               cards, \n",
    "                               pagination_final)\n",
    "\n",
    "        # PRETTIFY/FORMAT THE FULL HTML CODE\n",
    "        full_soup = bs4.BeautifulSoup(full, 'lxml')\n",
    "        full_pretty = full_soup.prettify()\n",
    "\n",
    "        #EXPORT HTML\n",
    "        full_export_path = './' + tag + str(index) + '.html'\n",
    "        with open(full_export_path, \"w\") as fileobject:\n",
    "            fileobject.write(full_pretty)\n",
    "            print('\\tFile successfully written to', full_export_path)\n",
    "\n",
    "        fileobject.close()"
   ]
  }
 ],
 "metadata": {
  "kernelspec": {
   "display_name": "Python 3",
   "language": "python",
   "name": "python3"
  },
  "language_info": {
   "codemirror_mode": {
    "name": "ipython",
    "version": 3
   },
   "file_extension": ".py",
   "mimetype": "text/x-python",
   "name": "python",
   "nbconvert_exporter": "python",
   "pygments_lexer": "ipython3",
   "version": "3.6.5"
  },
  "toc": {
   "base_numbering": 1,
   "nav_menu": {},
   "number_sections": true,
   "sideBar": true,
   "skip_h1_title": false,
   "title_cell": "Table of Contents",
   "title_sidebar": "Contents",
   "toc_cell": false,
   "toc_position": {
    "height": "calc(100% - 180px)",
    "left": "10px",
    "top": "150px",
    "width": "253px"
   },
   "toc_section_display": true,
   "toc_window_display": true
  },
  "varInspector": {
   "cols": {
    "lenName": 16,
    "lenType": 16,
    "lenVar": 40
   },
   "kernels_config": {
    "python": {
     "delete_cmd_postfix": "",
     "delete_cmd_prefix": "del ",
     "library": "var_list.py",
     "varRefreshCmd": "print(var_dic_list())"
    },
    "r": {
     "delete_cmd_postfix": ") ",
     "delete_cmd_prefix": "rm(",
     "library": "var_list.r",
     "varRefreshCmd": "cat(var_dic_list()) "
    }
   },
   "types_to_exclude": [
    "module",
    "function",
    "builtin_function_or_method",
    "instance",
    "_Feature"
   ],
   "window_display": false
  }
 },
 "nbformat": 4,
 "nbformat_minor": 2
}
