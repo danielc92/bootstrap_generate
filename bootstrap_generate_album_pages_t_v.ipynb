{
 "cells": [
  {
   "cell_type": "markdown",
   "metadata": {},
   "source": [
    "# Bootstrap generate album pages with tags (vertically alligned)"
   ]
  },
  {
   "cell_type": "markdown",
   "metadata": {},
   "source": [
    "Data Sources\n",
    "- https://www.flaticon.com"
   ]
  },
  {
   "cell_type": "markdown",
   "metadata": {},
   "source": [
    "## Setup"
   ]
  },
  {
   "cell_type": "code",
   "execution_count": 1,
   "metadata": {},
   "outputs": [],
   "source": [
    "random_phrases = ['Lorem ipsum dolor sit amet, quo malis assum iisque ea, prompta forensibus te sit. Qui vitae tollit te. Legendos sensibus et mel, usu ne graeci eruditi pertinax. Id vel quot facer.'\n",
    ",'Ius in clita recusabo pertinacia, ut mazim incorrupte nec, persius habemus id ius. Ea ignota verterem vix, te movet lucilius mel. Cu his alii aperiam, dicant omnesque delicata ex usu. Debet vitae fabulas sed ad, ex cum nihil putant vocent. Summo mucius at vel, est at legimus instructior. Eos no erat vituperatoribus, inani detraxit has ut.'\n",
    ",'Probo labore malorum at nec, ut cibo euismod vituperata sea. Semper tibique dolores eos id, quo ei clita singulis neglegentur. Duo prompta virtute nonumes ex. In solum commune disputando vim, eum clita verterem ea. Usu laudem eirmod et.'\n",
    ",'Duo id aperiri apeirian, in nec quidam dolorum adipiscing, has ex possim iuvaret. Iudico epicurei nam an, nonumy partiendo signiferumque vel ei. Ne vitae legendos sea, errem maiorum per et. Graece graeco qualisque ius id, feugait democritum conclusionemque eum no.'\n",
    ",'Ea soleat honestatis vix. An sea meis movet scaevola. Nam veritus antiopam omittantur in, vis eu consulatu temporibus, sale iriure animal per an. Erant tritani habemus pri no, ne duo posse mollis.']"
   ]
  },
  {
   "cell_type": "markdown",
   "metadata": {},
   "source": [
    "### Import modules"
   ]
  },
  {
   "cell_type": "code",
   "execution_count": 2,
   "metadata": {},
   "outputs": [],
   "source": [
    "import os\n",
    "import pandas\n",
    "import bs4\n",
    "import math\n",
    "import datetime\n",
    "import random"
   ]
  },
  {
   "cell_type": "markdown",
   "metadata": {},
   "source": [
    "### Set html colour codes "
   ]
  },
  {
   "cell_type": "code",
   "execution_count": 3,
   "metadata": {},
   "outputs": [],
   "source": [
    "jumbotron_background = \"#1d91c0\"\n",
    "jumbotron_foreground = \"#FFFFFF\"\n",
    "outline_button = \"dark\"\n",
    "card_header_foreground = \"#44494a\"\n",
    "card_header_background = \"#FFFFFF\"\n",
    "navbar_background = \"#414242\"\n",
    "footer_background = \"#414242\"\n",
    "badge_pill_background = \"#1d91c0\"\n",
    "badge_pill_foreground  = \"#FFFFFF\""
   ]
  },
  {
   "cell_type": "markdown",
   "metadata": {},
   "source": [
    "### Set SVG flag, items per page"
   ]
  },
  {
   "cell_type": "code",
   "execution_count": 4,
   "metadata": {},
   "outputs": [],
   "source": [
    "items_per_page = 8\n",
    "\n",
    "svg = True\n",
    "\n",
    "if svg == True:\n",
    "    visual_tag_start = '<object class = \"p-1\" height=100% width=100% type=\"image/svg+xml\" data=\"'\n",
    "    visual_tag_end = '\">Your browser does not support SVG</object>'\n",
    "else:\n",
    "    visual_tag_start = '<img class=\"card-img-top p-3\" src=\"'\n",
    "    visual_tag_end = '\" alt=\"Card image cap\">'"
   ]
  },
  {
   "cell_type": "markdown",
   "metadata": {},
   "source": [
    "### Set enabled/disabled variables used to switch buttons between enabled and disabled modes"
   ]
  },
  {
   "cell_type": "code",
   "execution_count": 5,
   "metadata": {},
   "outputs": [],
   "source": [
    "nothing = ''\n",
    "disabled = 'disabled'"
   ]
  },
  {
   "cell_type": "markdown",
   "metadata": {},
   "source": [
    "### Set Data Path and html path"
   ]
  },
  {
   "cell_type": "code",
   "execution_count": 6,
   "metadata": {},
   "outputs": [],
   "source": [
    "data_path = \"/users/danielcorcoran/Desktop/github_repos/bootstrap_generate/pygal/\"\n",
    "html_path = \"/users/danielcorcoran/Desktop/github_repos/bootstrap_generate/\""
   ]
  },
  {
   "cell_type": "code",
   "execution_count": 7,
   "metadata": {},
   "outputs": [
    {
     "data": {
      "text/plain": [
       "'pygal/'"
      ]
     },
     "execution_count": 7,
     "metadata": {},
     "output_type": "execute_result"
    }
   ],
   "source": [
    "data_path_items = data_path.split(\"/\")\n",
    "data_path_short = data_path_items[len(data_path_items) - 2] + \"/\"\n",
    "data_path_short"
   ]
  },
  {
   "cell_type": "markdown",
   "metadata": {},
   "source": [
    "## Read in files"
   ]
  },
  {
   "cell_type": "markdown",
   "metadata": {},
   "source": [
    "### Read filenames from data_path variable"
   ]
  },
  {
   "cell_type": "code",
   "execution_count": 8,
   "metadata": {},
   "outputs": [],
   "source": [
    "all_filenames = os.listdir(data_path)"
   ]
  },
  {
   "cell_type": "code",
   "execution_count": 9,
   "metadata": {},
   "outputs": [
    {
     "data": {
      "text/plain": [
       "['pygalchart_20180627_163849.svg',\n",
       " 'pygalchart_20180627_163828.svg',\n",
       " 'pygalchart_20180627_163816.svg',\n",
       " 'pygalchart_20180627_163839.svg',\n",
       " 'pygalchart_20180627_163838.svg',\n",
       " 'pygalchart_20180627_163834.svg',\n",
       " 'pygalchart_20180627_163836.svg',\n",
       " 'pygalchart_20180627_163823.svg',\n",
       " 'pygalchart_20180627_163832.svg',\n",
       " 'pygalchart_20180627_163826.svg',\n",
       " 'pygalchart_20180627_163830.svg',\n",
       " 'pygalchart_20180627_163842.svg',\n",
       " 'pygalchart_20180627_163841.svg',\n",
       " 'pygalchart_20180627_163854.svg',\n",
       " 'pygalchart_20180627_163844.svg',\n",
       " 'pygalchart_20180627_163851.svg',\n",
       " 'pygalchart_20180627_163845.svg',\n",
       " 'pygalchart_20180627_163847.svg']"
      ]
     },
     "execution_count": 9,
     "metadata": {},
     "output_type": "execute_result"
    }
   ],
   "source": [
    "for item in all_filenames:\n",
    "    if \"DS_Store\" in item:\n",
    "        all_filenames.remove(item)\n",
    "\n",
    "all_filenames"
   ]
  },
  {
   "cell_type": "markdown",
   "metadata": {},
   "source": [
    "### Store filenames in dataframe"
   ]
  },
  {
   "cell_type": "code",
   "execution_count": 10,
   "metadata": {},
   "outputs": [],
   "source": [
    "data = pandas.DataFrame()\n",
    "data[\"filename\"] = pandas.Series(all_filenames)"
   ]
  },
  {
   "cell_type": "markdown",
   "metadata": {},
   "source": [
    "### Create tags for testing purposes\n",
    "- Create list of possible tags, this is arbitrary\n",
    "- For each row in dataset containing filenames, calculate a random number (number of tags for this particular file), then for each increment of this random number assign a random tag from test_tags list"
   ]
  },
  {
   "cell_type": "code",
   "execution_count": 11,
   "metadata": {},
   "outputs": [],
   "source": [
    "test_tags = [\"blue\", \"red\", \"yellow\", \"purple\", \"grey\", \"white\", \"black\", \"teal\", \"orange\",\n",
    "            \"silver\", \"pink\", \"brown\"]"
   ]
  },
  {
   "cell_type": "code",
   "execution_count": 12,
   "metadata": {},
   "outputs": [],
   "source": [
    "for index in range(data.shape[0]):\n",
    "    \n",
    "    temp_tags = \"\"\n",
    "    number_of_tags = random.randint(1,7)    \n",
    "    \n",
    "    for sub_index in range(number_of_tags):\n",
    "        tag_index = random.randint(0,len(test_tags)-1)\n",
    "        test_tag = test_tags[tag_index]\n",
    "        \n",
    "        if temp_tags == \"\":\n",
    "            temp_tags = temp_tags + test_tag\n",
    "        else:\n",
    "            temp_tags = temp_tags + \",\" +test_tag\n",
    "    \n",
    "    data.loc[index, \"tag\"] = temp_tags"
   ]
  },
  {
   "cell_type": "markdown",
   "metadata": {},
   "source": [
    "## Extract tags from dataframe"
   ]
  },
  {
   "cell_type": "code",
   "execution_count": 13,
   "metadata": {},
   "outputs": [],
   "source": [
    "tags = data[\"tag\"].tolist()"
   ]
  },
  {
   "cell_type": "code",
   "execution_count": 14,
   "metadata": {},
   "outputs": [],
   "source": [
    "tagstring =\"\"\n",
    "\n",
    "for tag in tags:\n",
    "    if tag is not None:\n",
    "        tagstring = tagstring +\",\"+ tag"
   ]
  },
  {
   "cell_type": "code",
   "execution_count": 15,
   "metadata": {},
   "outputs": [],
   "source": [
    "tagstring = tagstring.lower().strip()"
   ]
  },
  {
   "cell_type": "code",
   "execution_count": 16,
   "metadata": {},
   "outputs": [],
   "source": [
    "many_tags = tagstring.split(\",\")"
   ]
  },
  {
   "cell_type": "code",
   "execution_count": 17,
   "metadata": {},
   "outputs": [
    {
     "data": {
      "text/plain": [
       "['',\n",
       " 'white',\n",
       " 'pink',\n",
       " 'brown',\n",
       " 'teal',\n",
       " 'brown',\n",
       " 'teal',\n",
       " 'orange',\n",
       " 'blue',\n",
       " 'red',\n",
       " 'teal',\n",
       " 'white',\n",
       " 'orange',\n",
       " 'white',\n",
       " 'white',\n",
       " 'yellow',\n",
       " 'blue',\n",
       " 'white',\n",
       " 'orange',\n",
       " 'red',\n",
       " 'white',\n",
       " 'blue',\n",
       " 'white',\n",
       " 'white',\n",
       " 'teal',\n",
       " 'black',\n",
       " 'purple',\n",
       " 'brown',\n",
       " 'teal',\n",
       " 'grey',\n",
       " 'grey',\n",
       " 'grey',\n",
       " 'pink',\n",
       " 'silver',\n",
       " 'yellow',\n",
       " 'yellow',\n",
       " 'silver',\n",
       " 'red',\n",
       " 'red',\n",
       " 'orange',\n",
       " 'red',\n",
       " 'red',\n",
       " 'silver',\n",
       " 'yellow',\n",
       " 'grey',\n",
       " 'silver',\n",
       " 'teal',\n",
       " 'red',\n",
       " 'brown',\n",
       " 'brown',\n",
       " 'orange',\n",
       " 'white',\n",
       " 'teal',\n",
       " 'grey',\n",
       " 'brown',\n",
       " 'red',\n",
       " 'silver',\n",
       " 'orange',\n",
       " 'blue',\n",
       " 'yellow',\n",
       " 'orange',\n",
       " 'teal',\n",
       " 'blue',\n",
       " 'blue',\n",
       " 'teal',\n",
       " 'yellow',\n",
       " 'brown',\n",
       " 'purple',\n",
       " 'black',\n",
       " 'pink',\n",
       " 'orange',\n",
       " 'red',\n",
       " 'yellow',\n",
       " 'red',\n",
       " 'blue',\n",
       " 'pink',\n",
       " 'orange',\n",
       " 'yellow',\n",
       " 'teal',\n",
       " 'black',\n",
       " 'black',\n",
       " 'white',\n",
       " 'purple',\n",
       " 'black',\n",
       " 'teal',\n",
       " 'blue',\n",
       " 'red']"
      ]
     },
     "execution_count": 17,
     "metadata": {},
     "output_type": "execute_result"
    }
   ],
   "source": [
    "many_tags"
   ]
  },
  {
   "cell_type": "markdown",
   "metadata": {},
   "source": [
    "### Clean tags, lowercase and strip\n",
    "- Mutate each item in many_tags with lowercase and whitespace trim\n",
    "- Remove any item in many_tags with a length of 0\n",
    "- Create a new list no_dupes this will be used to store unique tags, and will later be used in a dictionary as keys"
   ]
  },
  {
   "cell_type": "code",
   "execution_count": 18,
   "metadata": {},
   "outputs": [],
   "source": [
    "for index in range(len(many_tags)):\n",
    "    many_tags[index] = many_tags[index].lower().strip()"
   ]
  },
  {
   "cell_type": "code",
   "execution_count": 19,
   "metadata": {},
   "outputs": [],
   "source": [
    "for item in many_tags:\n",
    "    if len(item) == 0:\n",
    "        many_tags.remove(item)"
   ]
  },
  {
   "cell_type": "code",
   "execution_count": 20,
   "metadata": {},
   "outputs": [],
   "source": [
    "no_dupes = []\n",
    "\n",
    "for item in many_tags:\n",
    "    if item not in no_dupes:\n",
    "        no_dupes.append(item)"
   ]
  },
  {
   "cell_type": "markdown",
   "metadata": {},
   "source": [
    "### Create dictionary to store indices for each tag\n",
    "- Create the dictionary to store each unique tag, tags will be used to filter items\n",
    "- Iterate through and its associated indices (each index for each filename associated with that tag)\n",
    "- Finally add an 'index' key with all indices, this will be used as an unfiltered set of pages\n",
    "- Preview dictionary to validate tag/index assignment"
   ]
  },
  {
   "cell_type": "code",
   "execution_count": 21,
   "metadata": {},
   "outputs": [
    {
     "name": "stdout",
     "output_type": "stream",
     "text": [
      "{'white': [0, 2, 3, 4, 9, 16], 'pink': [0, 6, 14, 15], 'brown': [0, 1, 5, 9, 10, 13], 'teal': [0, 1, 4, 5, 8, 9, 11, 13, 16, 17], 'orange': [1, 3, 7, 9, 11, 14, 15], 'blue': [1, 3, 4, 11, 12, 13, 15, 17], 'red': [1, 4, 7, 8, 10, 15, 17], 'yellow': [3, 6, 8, 11, 13, 15, 16], 'black': [4, 13, 16], 'purple': [5, 13, 16], 'grey': [6, 8, 10], 'silver': [6, 7, 8, 10], 'index': [0, 1, 2, 3, 4, 5, 6, 7, 8, 9, 10, 11, 12, 13, 14, 15, 16, 17]}\n"
     ]
    }
   ],
   "source": [
    "dic = {}\n",
    "\n",
    "for tag in no_dupes:\n",
    "    dic[tag] = []\n",
    "\n",
    "for tag in no_dupes:\n",
    "    for index in range(data.shape[0]):\n",
    "        current_tag = data.loc[index, \"tag\"]\n",
    "        if tag in current_tag:\n",
    "            dic[tag].append(index)\n",
    "\n",
    "dic[\"index\"] = list(data.index)\n",
    "\n",
    "print(dic)"
   ]
  },
  {
   "cell_type": "markdown",
   "metadata": {},
   "source": [
    "## Html Skeletons"
   ]
  },
  {
   "cell_type": "markdown",
   "metadata": {},
   "source": [
    "### Jumbotron"
   ]
  },
  {
   "cell_type": "code",
   "execution_count": 22,
   "metadata": {},
   "outputs": [],
   "source": [
    "jumbotron_home = '''\n",
    "<div class=\"jumbotron jumbotron-fluid text-center m-0\" style = \"color: '''+jumbotron_foreground+'''; background-color:'''+jumbotron_background+''';\">\n",
    "      <div class=\"container\">\n",
    "        <h1 class=\"display-2\">\n",
    "          Daniels Generated Album\n",
    "        </h1>\n",
    "        <p class=\"lead\">\n",
    "          Something short and leading about the collection below—its contents, the creator, etc. Make it short and sweet, but not too short so folks don't simply skip over it entirely.\n",
    "        </p>\n",
    "        <p>\n",
    "          <a class=\"btn btn-outline-light my-2\" href=\"#\">\n",
    "          Primary\n",
    "          </a>\n",
    "          <a class=\"btn btn-outline-light my-2\" href=\"#\">\n",
    "          Secondary\n",
    "          </a>\n",
    "        </p>\n",
    "      </div>\n",
    "    </div>\n",
    "'''\n",
    "\n",
    "jumbotron_empty = ''"
   ]
  },
  {
   "cell_type": "markdown",
   "metadata": {},
   "source": [
    "### Pagination - Variable"
   ]
  },
  {
   "cell_type": "code",
   "execution_count": 23,
   "metadata": {},
   "outputs": [],
   "source": [
    "pagination = '<div class = \"text-center pb-4 text-muted bg-light\">\\\n",
    "  <div class = \"btn-group\">\\\n",
    "    <a href = \"{}{}.html\" class = \"btn btn-outline-'+outline_button+' {}\">First</a>\\\n",
    "    <a href = \"{}{}.html\" class = \"btn btn-outline-'+outline_button+' {}\">Previous</a>\\\n",
    "    <a class = \"btn btn-outline-'+outline_button+' active\">Page {}</a>\\\n",
    "    <a href = \"{}{}.html\" class = \"btn btn-outline-'+outline_button+' {}\">Next</a>\\\n",
    "    <a href = \"{}{}.html\"class = \"btn btn-outline-'+outline_button+' {}\">Last</a>\\\n",
    "  </div>\\\n",
    "</div>'\n",
    "\n",
    "pagination2 = '''\n",
    "<div class = \"text-center pb-4 text-muted bg-light\">\n",
    "  <div class = \"btn-group\">\n",
    "    <a class = \"btn btn-outline-'+outline_button+' active\">Page {}</a>\n",
    "  </div>\n",
    "</div>\n",
    "'''"
   ]
  },
  {
   "cell_type": "markdown",
   "metadata": {},
   "source": [
    "### Skeleton"
   ]
  },
  {
   "cell_type": "code",
   "execution_count": 24,
   "metadata": {},
   "outputs": [],
   "source": [
    "skeleton = '''\n",
    "<!DOCTYPE html>\n",
    "<html lang=\"en\">\n",
    "  <head>\n",
    "    <meta charset=\"utf-8\"/>\n",
    "    <meta content=\"width=device-width, initial-scale=1, shrink-to-fit=no\" name=\"viewport\"/>\n",
    "    <meta content=\"\" name=\"description\"/>\n",
    "    <meta content=\"\" name=\"author\"/>\n",
    "    <link href=\"../../../../favicon.ico\" rel=\"icon\"/>\n",
    "    <title>\n",
    "      Daniels Generated Gallery\n",
    "    </title>\n",
    "    <!-- Bootstrap CSS -->\n",
    "    <link crossorigin=\"anonymous\" href=\"https://stackpath.bootstrapcdn.com/bootstrap/4.1.1/css/bootstrap.min.css\" integrity=\"sha384-WskhaSGFgHYWDcbwN70/dfYBj47jz9qbsMId/iRN3ewGhXQFZCSftd1LZCfmhktB\" rel=\"stylesheet\"/>\n",
    "    <!-- Custom styles for this template -->\n",
    "    <link href=\"album.css\" rel=\"stylesheet\"/>\n",
    "  </head>\n",
    "  <body class = \"bg-light\">\n",
    "    <header style = \"background-color:'''+navbar_background+''';\">\n",
    "       <div class=\"container\">\n",
    "        <nav class=\"navbar navbar-expand-lg navbar-dark py-1\" style = \"background-color:'''+navbar_background+''';\">\n",
    "         <a class=\"navbar-brand\" href=\"#\">\n",
    "          <img alt=\"\" class=\"d-inline-block\" height=\"36\" src=\"logo/analytics.svg\" width=\"36\"/>\n",
    "         </a>\n",
    "         <button aria-controls=\"navbarColor03\" aria-expanded=\"false\" aria-label=\"Toggle navigation\" class=\"navbar-toggler collapsed\" data-target=\"#navbarColor03\" data-toggle=\"collapse\" type=\"button\">\n",
    "          <span class=\"navbar-toggler-icon\">\n",
    "          </span>\n",
    "         </button>\n",
    "         <div class=\"navbar-collapse collapse\" id=\"navbarColor03\" style=\"\">\n",
    "          <ul class=\"navbar-nav mr-auto\">\n",
    "           <li class=\"nav-item active\">\n",
    "            <a class=\"nav-link\" href=\"index0.html\">\n",
    "             Home\n",
    "             <span class=\"sr-only\">\n",
    "              (current)\n",
    "             </span>\n",
    "            </a>\n",
    "           </li>\n",
    "           <li class=\"nav-item\">\n",
    "            <a class=\"nav-link\" href=\"#\">\n",
    "             About\n",
    "            </a>\n",
    "           </li>\n",
    "           <li class=\"nav-item\">\n",
    "            <a class=\"nav-link\" href=\"#\">\n",
    "             Donate\n",
    "            </a>\n",
    "           </li>\n",
    "           <li class=\"nav-item\">\n",
    "            <a class=\"nav-link\" href=\"#\">\n",
    "             Community\n",
    "            </a>\n",
    "           </li>\n",
    "           <li class=\"nav-item\">\n",
    "            <a class=\"nav-link\" href=\"#\">\n",
    "             Contact Us\n",
    "            </a>\n",
    "           </li>\n",
    "          </ul>\n",
    "         </div>\n",
    "    </nav>\n",
    "   </div>\n",
    "  </header>\n",
    "    \n",
    "    \n",
    "    {}\n",
    "    \n",
    "    \n",
    "    \n",
    "    <div class=\"album bg-light\">\n",
    "      <div class=\"container\">\n",
    "        <div class=\"row\">\n",
    "          \n",
    "          {}\n",
    "        \n",
    "        \n",
    "        </div>\n",
    "      </div>\n",
    "    </div>\n",
    "    \n",
    "    {}\n",
    "    \n",
    "    <footer class=\"text-light py-3\" style = \"background-color: '''+footer_background+''';\">\n",
    "      <div class=\"container\">\n",
    "        <span>&copy; Copyright DanielsGenerator</span>\n",
    "        <span class=\"float-right\">\n",
    "        <a href=\"#\">\n",
    "        Back to top\n",
    "        </a>\n",
    "        </span>\n",
    "      </div>\n",
    "    </footer>\n",
    "    <!-- Optional JavaScript -->\n",
    "    <!-- jQuery first, then Popper.js, then Bootstrap JS -->\n",
    "    <script crossorigin=\"anonymous\" integrity=\"sha384-q8i/X+965DzO0rT7abK41JStQIAqVgRVzpbzo5smXKp4YfRvH+8abtTE1Pi6jizo\" src=\"https://code.jquery.com/jquery-3.3.1.slim.min.js\"></script>\n",
    "    <script crossorigin=\"anonymous\" integrity=\"sha384-ZMP7rVo3mIykV+2+9J3UJ46jBk0WLaUAdn689aCwoqbBJiSnjAK/l8WvCWPIPm49\" src=\"https://cdnjs.cloudflare.com/ajax/libs/popper.js/1.14.3/umd/popper.min.js\"></script>\n",
    "    <script crossorigin=\"anonymous\" integrity=\"sha384-smHYKdLADwkXOn1EmN1qk/HfnUcbVRZyYmZ4qpPea6sjB/pTJ0euyQp0Mk8ck+5T\" src=\"https://stackpath.bootstrapcdn.com/bootstrap/4.1.1/js/bootstrap.min.js\"></script>\n",
    "  </body>\n",
    "</html>\n",
    "'''"
   ]
  },
  {
   "cell_type": "markdown",
   "metadata": {},
   "source": [
    "## Delete all .html files in directory before Process"
   ]
  },
  {
   "cell_type": "code",
   "execution_count": 25,
   "metadata": {},
   "outputs": [
    {
     "name": "stdout",
     "output_type": "stream",
     "text": [
      "Successfully deleted file /users/danielcorcoran/Desktop/github_repos/bootstrap_generate/pink0.html\n",
      "Successfully deleted file /users/danielcorcoran/Desktop/github_repos/bootstrap_generate/black0.html\n",
      "Successfully deleted file /users/danielcorcoran/Desktop/github_repos/bootstrap_generate/purple0.html\n",
      "Successfully deleted file /users/danielcorcoran/Desktop/github_repos/bootstrap_generate/index2.html\n",
      "Successfully deleted file /users/danielcorcoran/Desktop/github_repos/bootstrap_generate/orange0.html\n",
      "Successfully deleted file /users/danielcorcoran/Desktop/github_repos/bootstrap_generate/grey0.html\n",
      "Successfully deleted file /users/danielcorcoran/Desktop/github_repos/bootstrap_generate/yellow0.html\n",
      "Successfully deleted file /users/danielcorcoran/Desktop/github_repos/bootstrap_generate/red0.html\n",
      "Successfully deleted file /users/danielcorcoran/Desktop/github_repos/bootstrap_generate/white0.html\n",
      "Successfully deleted file /users/danielcorcoran/Desktop/github_repos/bootstrap_generate/silver0.html\n",
      "Successfully deleted file /users/danielcorcoran/Desktop/github_repos/bootstrap_generate/brown0.html\n",
      "Successfully deleted file /users/danielcorcoran/Desktop/github_repos/bootstrap_generate/index1.html\n",
      "Successfully deleted file /users/danielcorcoran/Desktop/github_repos/bootstrap_generate/teal0.html\n",
      "Successfully deleted file /users/danielcorcoran/Desktop/github_repos/bootstrap_generate/index0.html\n",
      "Successfully deleted file /users/danielcorcoran/Desktop/github_repos/bootstrap_generate/blue0.html\n"
     ]
    }
   ],
   "source": [
    "for filename in os.listdir(html_path):\n",
    "    if \".html\" in filename:\n",
    "        full_path = html_path + filename\n",
    "        try:\n",
    "            os.remove(full_path)\n",
    "            print(\"Successfully deleted file\", full_path)\n",
    "        except:\n",
    "            print(\"Error deleting file\", full_path)"
   ]
  },
  {
   "cell_type": "markdown",
   "metadata": {},
   "source": [
    "## Process\n",
    "\n",
    "\n",
    "- **ITERATE THROUGH EACH TAG IN DICTIONARY** (the higest level)\n",
    "    - Store `tag` variable, `page_prefix` variable and `subset_indices`\n",
    "    - Work out total items within the current `tag`\n",
    "    - Work out `excess_items`, to determine how many pages will be required for current `tag`\n",
    "    - Workout how many items in the `dic` tag list of indices will be included in each page using `items_per_page` and `total_pages variable`\n",
    "    - Calculate `first_index` and `last_index`\n",
    "\n",
    "\n",
    "- **ITERATE THROUGH EACH PAGE IN NESTED_PAGE_INDICES** (second level, represents html pages, containing `items_per_page` items)\n",
    "    - Calculate `previous_index` and `next_index`, used for pagination linking\n",
    "    - Calculate pagination html\n",
    "    - Calculate which jumbotron variable to use\n",
    "    - Create column variables\n",
    "\n",
    "\n",
    "\n",
    "- **ITERATE THROUGH EACH PAGE IN PAGE_LEVEL_INDICES** (lowest level, represents filenames)\n",
    "    - Calculate `filename` and `filetags` variables\n",
    "    - Calculate html block using `filetags` variable\n",
    "    - Calculate the body html, this is comprised of column variables, each storing a dynamic amount of card html code"
   ]
  },
  {
   "cell_type": "code",
   "execution_count": 26,
   "metadata": {},
   "outputs": [
    {
     "name": "stdout",
     "output_type": "stream",
     "text": [
      "processing dic key white\n",
      "\tFile successfully written to /users/danielcorcoran/desktop/github_repos/bootstrap_generate/white0.html\n",
      "processing dic key pink\n",
      "\tFile successfully written to /users/danielcorcoran/desktop/github_repos/bootstrap_generate/pink0.html\n",
      "processing dic key brown\n",
      "\tFile successfully written to /users/danielcorcoran/desktop/github_repos/bootstrap_generate/brown0.html\n",
      "processing dic key teal\n",
      "\tFile successfully written to /users/danielcorcoran/desktop/github_repos/bootstrap_generate/teal0.html\n",
      "\tFile successfully written to /users/danielcorcoran/desktop/github_repos/bootstrap_generate/teal1.html\n",
      "processing dic key orange\n",
      "\tFile successfully written to /users/danielcorcoran/desktop/github_repos/bootstrap_generate/orange0.html\n",
      "processing dic key blue\n",
      "\tFile successfully written to /users/danielcorcoran/desktop/github_repos/bootstrap_generate/blue0.html\n",
      "processing dic key red\n",
      "\tFile successfully written to /users/danielcorcoran/desktop/github_repos/bootstrap_generate/red0.html\n",
      "processing dic key yellow\n",
      "\tFile successfully written to /users/danielcorcoran/desktop/github_repos/bootstrap_generate/yellow0.html\n",
      "processing dic key black\n",
      "\tFile successfully written to /users/danielcorcoran/desktop/github_repos/bootstrap_generate/black0.html\n",
      "processing dic key purple\n",
      "\tFile successfully written to /users/danielcorcoran/desktop/github_repos/bootstrap_generate/purple0.html\n",
      "processing dic key grey\n",
      "\tFile successfully written to /users/danielcorcoran/desktop/github_repos/bootstrap_generate/grey0.html\n",
      "processing dic key silver\n",
      "\tFile successfully written to /users/danielcorcoran/desktop/github_repos/bootstrap_generate/silver0.html\n",
      "processing dic key index\n",
      "\tFile successfully written to /users/danielcorcoran/desktop/github_repos/bootstrap_generate/index0.html\n",
      "\tFile successfully written to /users/danielcorcoran/desktop/github_repos/bootstrap_generate/index1.html\n",
      "\tFile successfully written to /users/danielcorcoran/desktop/github_repos/bootstrap_generate/index2.html\n"
     ]
    }
   ],
   "source": [
    "#ITERATE THROUGH EACH TAG IN DICTIONARY\n",
    "\n",
    "for key in dic.keys():\n",
    "    \n",
    "    \n",
    "    \n",
    "    #STEP 1\n",
    "    tag = key\n",
    "    print(\"processing dic key\",tag)\n",
    "    \n",
    "    \n",
    "    page_prefix = tag\n",
    "    subset_indices = dic[tag]\n",
    "\n",
    "    #WORK OUT TOTAL ITEMS\n",
    "    total_items = len(dic[tag])\n",
    "    total_items\n",
    "    \n",
    "    #WORK OUT HOW MUCH EXCESS ITEMS\n",
    "    excess_items = total_items % items_per_page\n",
    "    \n",
    "    # CALCULATE HOW MANY PAGES WILL BE REQUIRED\n",
    "    if excess_items > 0:\n",
    "        total_pages = int(math.floor(total_items/items_per_page) + 1)\n",
    "    else:\n",
    "        total_pages = int(total_items/items_per_page)\n",
    "        \n",
    "    index_starter = 0\n",
    "    nested_page_indices = []\n",
    "    \n",
    "    # CALCULATE GROUPINGS OF FILES PER PAGE AND STORE IN A LIST OF LISTS\n",
    "    if total_pages > 0:\n",
    "        for index in range(total_pages):\n",
    "            small_list = subset_indices[index_starter: index_starter + items_per_page]\n",
    "            nested_page_indices.append(small_list)\n",
    "            index_starter = index_starter + items_per_page\n",
    "    \n",
    "    #CALCULATE INDEX FOR FIRST, LAST PAGES\n",
    "    first_index = 0\n",
    "    last_index = len(nested_page_indices) - 1\n",
    "    \n",
    "    #ITERATE THROUGH EACH PAGE IN NESTED_PAGE_INDICES\n",
    "    \n",
    "    for index in range(len(nested_page_indices)):\n",
    "    \n",
    "        # WORK OUT INDEX FOR PAGES LATERALLY\n",
    "        previous_index = index -1\n",
    "        next_index = index +1\n",
    "\n",
    "        body_final = ''\n",
    "        page_items = nested_page_indices[index]\n",
    "        page_number = index + 1\n",
    "\n",
    "        #PAGINATION\n",
    "        if total_pages == 1:\n",
    "            pagination_final = pagination2.format(page_number)\n",
    "        else:\n",
    "            if index ==0:\n",
    "                pagination_final = pagination.format(page_prefix, first_index,disabled,page_prefix,  previous_index, disabled, page_number,\n",
    "                                                    page_prefix, next_index, nothing, page_prefix, last_index, nothing)\n",
    "            elif index == last_index:\n",
    "                pagination_final = pagination.format(page_prefix, first_index, nothing, page_prefix, previous_index, nothing, page_number,\n",
    "                                                    page_prefix, next_index, disabled, page_prefix, last_index, disabled)\n",
    "            else:\n",
    "                pagination_final = pagination.format(page_prefix,first_index, nothing,page_prefix, previous_index, nothing, page_number,\n",
    "                                                    page_prefix, next_index, nothing, page_prefix, last_index, nothing)\n",
    "\n",
    "        if index == 0:\n",
    "            jumbotron_final = jumbotron_home\n",
    "        else:\n",
    "            jumbotron_final = jumbotron_empty\n",
    "\n",
    "        \n",
    "\n",
    "        page_level_indices = nested_page_indices[index]\n",
    "\n",
    "        item_number = 1\n",
    "        \n",
    "        # CREATE EMPTY COLUMNS\n",
    "            \n",
    "        column1_cards = ''\n",
    "        column2_cards = ''\n",
    "        column1_skeleton = '<div class = \"col-lg-6\"> {} </div>'\n",
    "        column2_skeleton = '<div class = \"col-lg-6\"> {} </div>'\n",
    "        \n",
    "        \n",
    "        # FILE LEVEL LOOP\n",
    "        for index2 in range(len(page_level_indices)):\n",
    "            \n",
    "            sub_index = page_level_indices[index2]\n",
    "            filename = data.loc[sub_index, \"filename\"]\n",
    "            filetags = data.loc[sub_index, \"tag\"]\n",
    "\n",
    "            tags_split = filetags.split(\",\")\n",
    "            tags_html_block = \"\"\n",
    "\n",
    "            for tag_name in tags_split:\n",
    "                tags_html_block = tags_html_block + \\\n",
    "                '<a href = \"'+tag_name+'0.html\" class = \"badge badge-pill\" style = \"color:'+badge_pill_foreground+' ;background-color:'+badge_pill_background+';\">'+tag_name+'</a>'\n",
    "\n",
    "            # IF ITEM IS ON FIRST ROW SET TOP MARGIN TO 4 ELSE NO MARGIN\n",
    "            if item_number <=2:\n",
    "                optional_top_margin = 'mt-4'\n",
    "            else:\n",
    "                optional_top_margin = ''\n",
    "\n",
    "            item_number = item_number + 1\n",
    "\n",
    "            filename_short = filename.replace(\".png\", \"\")\n",
    "            \n",
    "            random_text_index = random.randint(1,len(random_phrases) - 1)\n",
    "            random_text = random_phrases[random_text_index]\n",
    "            \n",
    "            if index2 % 2 == 0 or index2 == 0:\n",
    "                column1_cards = column1_cards + '\\\n",
    "                <div class=\"card mb-4 ' + optional_top_margin+'\">\\\n",
    "                    <div class = \"card-header p-3\" style = \"background-color: '+card_header_background+';\">\\\n",
    "                        <h5 class = \"p-0 m-0\">Source: '+filename_short+'</h5>\\\n",
    "                        <div class = \"card-subtitle p-0 m-0 text-muted\">A subtitle about flowers</div>\\\n",
    "                    </div>\\\n",
    "                      ' + visual_tag_start + data_path_short + filename + visual_tag_end + '\\\n",
    "                    <div class=\"card-body\">\\\n",
    "                      <p class=\"card-text\">' + random_text + '</p>\\\n",
    "                        <div class=\"btn-group p-0 m-0\">\\\n",
    "                          <a class=\"btn btn-sm btn-outline-'+outline_button+'\" href=\"'+data_path_short + filename+'\" role=\"button\">View</a>\\\n",
    "                          <a class=\"btn btn-sm btn-outline-'+outline_button+'\" href = \"'+data_path_short + filename+'\" download = \"'+filename+'\" role=\"button\">Download</a>\\\n",
    "                        </div>\\\n",
    "                    </div>\\\n",
    "                    <div class = \"p-3 bg-light\">\\\n",
    "                      '+tags_html_block+'\\\n",
    "                    </div>\\\n",
    "                  </div>'\n",
    "            else:\n",
    "                column2_cards = column2_cards + '\\\n",
    "                <div class=\"card mb-4 ' + optional_top_margin+'\">\\\n",
    "                    <div class = \"card-header p-3\" style = \"background-color: '+card_header_background+';\">\\\n",
    "                        <h5 class = \"p-0 m-0\">Source: '+filename_short+'</h5>\\\n",
    "                        <div class = \"card-subtitle p-0 m-0 text-muted\">A subtitle about flowers</div>\\\n",
    "                    </div>\\\n",
    "                      ' + visual_tag_start + data_path_short + filename + visual_tag_end + '\\\n",
    "                    <div class=\"card-body\">\\\n",
    "                      <p class=\"card-text\">' + random_text + '</p>\\\n",
    "                        <div class=\"btn-group p-0 m-0\">\\\n",
    "                          <a class=\"btn btn-sm btn-outline-'+outline_button+'\" href=\"'+data_path_short + filename+'\" role=\"button\">View</a>\\\n",
    "                          <a class=\"btn btn-sm btn-outline-'+outline_button+'\" href = \"'+data_path_short + filename+'\" download = \"'+filename+'\" role=\"button\">Download</a>\\\n",
    "                        </div>\\\n",
    "                    </div>\\\n",
    "                    <div class = \"p-3 bg-light\">\\\n",
    "                      '+tags_html_block+'\\\n",
    "                    </div>\\\n",
    "                  </div>'\n",
    "            \n",
    "            column1_full = column1_skeleton.format(column1_cards)\n",
    "            column2_full = column1_skeleton.format(column2_cards)\n",
    "            \n",
    "            body_final = column1_full + column2_full\n",
    "\n",
    "            \n",
    "        # BUILD FULL HTML CODE ON PAGE LEVEL\n",
    "        full = skeleton.format(jumbotron_final, \n",
    "                               body_final, \n",
    "                               pagination_final)\n",
    "\n",
    "        # PRETTIFY/FORMAT THE FULL HTML CODE\n",
    "        full_soup = bs4.BeautifulSoup(full, \"lxml\")\n",
    "        full_pretty = full_soup.prettify()\n",
    "\n",
    "        #EXPORT HTML\n",
    "        full_export_path = \"/users/danielcorcoran/desktop/github_repos/bootstrap_generate/\" + tag + str(index) + \".html\"\n",
    "        with open(full_export_path, \"w\") as fileobject:\n",
    "            fileobject.write(full_pretty)\n",
    "            print(\"\\tFile successfully written to\", full_export_path)\n",
    "\n",
    "        fileobject.close()"
   ]
  },
  {
   "cell_type": "code",
   "execution_count": null,
   "metadata": {},
   "outputs": [],
   "source": [
    "\n"
   ]
  }
 ],
 "metadata": {
  "kernelspec": {
   "display_name": "Python 3",
   "language": "python",
   "name": "python3"
  },
  "language_info": {
   "codemirror_mode": {
    "name": "ipython",
    "version": 3
   },
   "file_extension": ".py",
   "mimetype": "text/x-python",
   "name": "python",
   "nbconvert_exporter": "python",
   "pygments_lexer": "ipython3",
   "version": "3.6.5"
  },
  "toc": {
   "base_numbering": 1,
   "nav_menu": {},
   "number_sections": true,
   "sideBar": true,
   "skip_h1_title": false,
   "title_cell": "Table of Contents",
   "title_sidebar": "Contents",
   "toc_cell": false,
   "toc_position": {
    "height": "calc(100% - 180px)",
    "left": "10px",
    "top": "150px",
    "width": "253px"
   },
   "toc_section_display": true,
   "toc_window_display": true
  },
  "varInspector": {
   "cols": {
    "lenName": 16,
    "lenType": 16,
    "lenVar": 40
   },
   "kernels_config": {
    "python": {
     "delete_cmd_postfix": "",
     "delete_cmd_prefix": "del ",
     "library": "var_list.py",
     "varRefreshCmd": "print(var_dic_list())"
    },
    "r": {
     "delete_cmd_postfix": ") ",
     "delete_cmd_prefix": "rm(",
     "library": "var_list.r",
     "varRefreshCmd": "cat(var_dic_list()) "
    }
   },
   "types_to_exclude": [
    "module",
    "function",
    "builtin_function_or_method",
    "instance",
    "_Feature"
   ],
   "window_display": false
  }
 },
 "nbformat": 4,
 "nbformat_minor": 2
}
