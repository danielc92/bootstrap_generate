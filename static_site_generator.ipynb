{
 "cells": [
  {
   "cell_type": "markdown",
   "metadata": {},
   "source": [
    "# Imports"
   ]
  },
  {
   "cell_type": "code",
   "execution_count": 1,
   "metadata": {},
   "outputs": [],
   "source": [
    "import os\n",
    "import pandas\n",
    "import bs4\n",
    "import math\n",
    "import datetime\n",
    "import random\n",
    "from numpy.random import randint as ri"
   ]
  },
  {
   "cell_type": "markdown",
   "metadata": {},
   "source": [
    "# Helper functions"
   ]
  },
  {
   "cell_type": "markdown",
   "metadata": {},
   "source": [
    "### Generate random text"
   ]
  },
  {
   "cell_type": "code",
   "execution_count": 2,
   "metadata": {},
   "outputs": [],
   "source": [
    "lorem = 'Lorem ipsum dolor sit amet, consectetur adipiscing elit, sed do eiusmod tempor incididunt ut labore et dolore magna aliqua. Ut enim ad minim veniam, quis nostrud exercitation ullamco laboris nisi ut aliquip ex ea commodo consequat. Duis aute irure dolor in reprehenderit in voluptate velit esse cillum dolore eu fugiat nulla pariatur. Excepteur sint occaecat cupidatat non proident, sunt in culpa qui officia deserunt mollit anim id est laborum.'\n",
    "lorem_parts = lorem.split()\n",
    "\n",
    "def return_random_text(lower, upper):\n",
    "    # Random number of words between 0-30\n",
    "    num_words = ri(lower, upper)\n",
    "    words = [lorem_parts[ri(0, len(lorem_parts))] for num in range(num_words)]\n",
    "    paragraph = ' '.join(words)\n",
    "    return paragraph.capitalize()"
   ]
  },
  {
   "cell_type": "markdown",
   "metadata": {},
   "source": [
    "### Generate random tags"
   ]
  },
  {
   "cell_type": "code",
   "execution_count": 3,
   "metadata": {},
   "outputs": [],
   "source": [
    "test_tags = ['blue', 'red', 'yellow', 'purple', 'grey', 'white', 'black', 'teal', 'orange', 'silver', 'pink', 'brown']\n",
    "\n",
    "def generate_tags():\n",
    "    tags = ''\n",
    "    tag_list = [test_tags[ri(0, len(test_tags)-1)] for tag in range(ri(2,8))]\n",
    "    tags = ','.join(tag_list)\n",
    "    return tags"
   ]
  },
  {
   "cell_type": "markdown",
   "metadata": {},
   "source": [
    "### Generate lists of lists (for pagination)"
   ]
  },
  {
   "cell_type": "code",
   "execution_count": 4,
   "metadata": {},
   "outputs": [],
   "source": [
    "def cluster(sequence, per_group):\n",
    "    steps = list(range(0, len(sequence), per_group))\n",
    "    groups = []\n",
    "    for index, step in enumerate(steps):\n",
    "        temp = list()\n",
    "        for n in range(per_group):\n",
    "            absolute_index = (index + 1) * per_group - per_group + n\n",
    "            if absolute_index < len(sequence):\n",
    "                temp.append(sequence[step])\n",
    "                step = step + 1\n",
    "        groups.append(temp)\n",
    "    return groups"
   ]
  },
  {
   "cell_type": "markdown",
   "metadata": {},
   "source": [
    "# Generator settings\n",
    "- data paths\n",
    "- fonts\n",
    "- bootstrap colour theming\n",
    "- pagination options"
   ]
  },
  {
   "cell_type": "markdown",
   "metadata": {},
   "source": [
    "### Paths"
   ]
  },
  {
   "cell_type": "code",
   "execution_count": 5,
   "metadata": {},
   "outputs": [],
   "source": [
    "data_path = './data/rabbits/'\n",
    "relative_data_path = '../data/rabbits/'\n",
    "html_path = './html/'"
   ]
  },
  {
   "cell_type": "markdown",
   "metadata": {},
   "source": [
    "### Site Fonts"
   ]
  },
  {
   "cell_type": "code",
   "execution_count": 6,
   "metadata": {},
   "outputs": [],
   "source": [
    "google_fonts = {\"bootstrap\":{\"link\":'',\n",
    "                            \"specify\":'',\n",
    "                            \"url\":None},\n",
    "                \n",
    "                \"raleway\":{\"link\":'<link href=\"https://fonts.googleapis.com/css?family=Raleway\" rel=\"stylesheet\">',\n",
    "                          \"specify\":\"font-family: 'Raleway', sans-serif;\",\n",
    "                          \"url\":\"https://fonts.google.com/specimen/Raleway?selection.family=Raleway\"},\n",
    "                \n",
    "                \"open_sans\":{\"link\":'<link href=\"https://fonts.googleapis.com/css?family=Open+Sans\" rel=\"stylesheet\">',\n",
    "                        \"specify\":\"font-family: 'Open Sans', sans-serif;\",\n",
    "                       \"url\":\"https://fonts.google.com/specimen/Open+Sans?selection.family=Open+Sans\"},\n",
    "                \n",
    "                \"roboto\":{\"link\":'<link href=\"https://fonts.googleapis.com/css?family=Roboto\" rel=\"stylesheet\">',\n",
    "                         \"specify\":\"font-family: 'Roboto', sans-serif;\",\n",
    "                         \"url\":\"https://fonts.google.com/specimen/Roboto?selection.family=Roboto\"},\n",
    "                \n",
    "                \"ubuntu\":{\"link\":'<link href=\"https://fonts.googleapis.com/css?family=Ubuntu\" rel=\"stylesheet\"> ',\n",
    "                         \"specify\":\"font-family: 'Ubuntu', sans-serif;\",\n",
    "                         \"url\": \"https://fonts.google.com/specimen/Ubuntu?selection.family=Ubuntu\"}}"
   ]
  },
  {
   "cell_type": "code",
   "execution_count": 7,
   "metadata": {},
   "outputs": [
    {
     "name": "stdout",
     "output_type": "stream",
     "text": [
      "Font has been set to ubuntu\n"
     ]
    }
   ],
   "source": [
    "selected_font = 'ubuntu'\n",
    "\n",
    "set_link = google_fonts[selected_font]['link']\n",
    "set_style = google_fonts[selected_font]['specify']\n",
    "print('Font has been set to {}'.format(selected_font))"
   ]
  },
  {
   "cell_type": "markdown",
   "metadata": {},
   "source": [
    "### Site Colours"
   ]
  },
  {
   "cell_type": "code",
   "execution_count": 8,
   "metadata": {},
   "outputs": [],
   "source": [
    "outline_button = 'success'\n",
    "header_foreground = '#44494a'\n",
    "header_background = '#FFFFFF'\n",
    "navbar_background = '#296831'\n",
    "footer_background = navbar_background\n",
    "pill_background = navbar_background\n",
    "pill_foreground  = '#FFFFFF'"
   ]
  },
  {
   "cell_type": "markdown",
   "metadata": {},
   "source": [
    "### Site pagination"
   ]
  },
  {
   "cell_type": "code",
   "execution_count": 9,
   "metadata": {},
   "outputs": [],
   "source": [
    "items_per_page = 12\n",
    "\n",
    "svg = False\n",
    "\n",
    "if svg == True:\n",
    "    visual_tag_start = '<object class = \"p-1\" height=100% width=100% type=\"image/svg+xml\" data=\"'\n",
    "    visual_tag_end = '\">Your browser does not support SVG</object>'\n",
    "else:\n",
    "    visual_tag_start = '<img class=\"card-img-top p-3\" src=\"'\n",
    "    visual_tag_end = '\" alt=\"Card image cap\">'"
   ]
  },
  {
   "cell_type": "markdown",
   "metadata": {},
   "source": [
    "### Set enabled/disabled variables used to switch buttons between enabled and disabled modes"
   ]
  },
  {
   "cell_type": "code",
   "execution_count": 10,
   "metadata": {},
   "outputs": [],
   "source": [
    "nothing = ''\n",
    "disabled = 'disabled'"
   ]
  },
  {
   "cell_type": "markdown",
   "metadata": {},
   "source": [
    "## Read in data"
   ]
  },
  {
   "cell_type": "markdown",
   "metadata": {},
   "source": [
    "### Read filenames from data_path variable"
   ]
  },
  {
   "cell_type": "code",
   "execution_count": 11,
   "metadata": {},
   "outputs": [],
   "source": [
    "all_filenames = [file for file in os.listdir(data_path) if 'DS_Store' not in file]"
   ]
  },
  {
   "cell_type": "markdown",
   "metadata": {},
   "source": [
    "### Store filenames in dataframe"
   ]
  },
  {
   "cell_type": "code",
   "execution_count": 12,
   "metadata": {},
   "outputs": [],
   "source": [
    "data = pandas.DataFrame()\n",
    "data[\"filename\"] = pandas.Series(all_filenames)"
   ]
  },
  {
   "cell_type": "markdown",
   "metadata": {},
   "source": [
    "### Create tags for testing purposes\n",
    "- Create list of possible tags, this is arbitrary\n",
    "- For each row in dataset containing filenames, calculate a random number (number of tags for this particular file), then for each increment of this random number assign a random tag from test_tags list"
   ]
  },
  {
   "cell_type": "code",
   "execution_count": 13,
   "metadata": {},
   "outputs": [],
   "source": [
    "for index in range(data.shape[0]):\n",
    "    data.loc[index, \"tag\"] = generate_tags()"
   ]
  },
  {
   "cell_type": "markdown",
   "metadata": {},
   "source": [
    "### Extract unique tags from dataframe"
   ]
  },
  {
   "cell_type": "code",
   "execution_count": 14,
   "metadata": {},
   "outputs": [],
   "source": [
    "tag_string = ','.join(data['tag'].tolist())"
   ]
  },
  {
   "cell_type": "code",
   "execution_count": 15,
   "metadata": {},
   "outputs": [],
   "source": [
    "tags_including_dupes = [tag for tag in tag_string.split(',') if len(tag)> 0]"
   ]
  },
  {
   "cell_type": "code",
   "execution_count": 16,
   "metadata": {},
   "outputs": [],
   "source": [
    "no_dupes = sorted(list(set(tags_including_dupes)))"
   ]
  },
  {
   "cell_type": "markdown",
   "metadata": {},
   "source": [
    "### Create dictionary to store indices for each tag\n",
    "- Create the dictionary to store each unique tag, tags will be used to filter items\n",
    "- Iterate through and its associated indices (each index for each filename associated with that tag)\n",
    "- Finally add an 'index' key with all indices, this will be used as an unfiltered set of pages\n",
    "- Preview dictionary to validate tag/index assignment"
   ]
  },
  {
   "cell_type": "code",
   "execution_count": 17,
   "metadata": {},
   "outputs": [
    {
     "name": "stdout",
     "output_type": "stream",
     "text": [
      "defaultdict(<class 'list'>, {'black': [0, 1, 2, 9, 13, 19, 20, 26, 27, 28, 29, 35, 36, 40, 42, 43, 45, 46, 50, 55, 56, 57, 58, 59, 62, 66, 67, 68, 69, 70, 78, 80, 81, 82, 84, 88, 91, 95, 96, 107, 108, 113, 114, 116, 119, 123, 125, 129, 131, 135, 137, 142, 143, 146, 150, 153, 157, 158, 160, 161, 162, 163, 164, 177, 178, 179, 180, 181, 183], 'blue': [1, 2, 4, 5, 7, 8, 9, 11, 13, 15, 18, 19, 20, 22, 27, 28, 32, 34, 36, 37, 38, 43, 47, 54, 55, 56, 63, 67, 69, 70, 71, 76, 81, 83, 86, 87, 88, 91, 94, 96, 97, 101, 102, 106, 115, 116, 122, 127, 129, 134, 135, 137, 140, 145, 147, 149, 152, 153, 154, 161, 164, 166, 167, 171, 176, 178, 180, 183], 'grey': [1, 4, 11, 12, 13, 14, 17, 25, 28, 30, 32, 33, 37, 40, 43, 44, 51, 54, 56, 57, 58, 59, 63, 64, 65, 68, 69, 70, 74, 79, 83, 85, 87, 94, 95, 97, 98, 99, 103, 109, 111, 114, 115, 124, 125, 129, 134, 136, 138, 142, 144, 146, 153, 157, 161, 166, 168, 172, 173, 178, 180, 181, 182, 184], 'orange': [0, 2, 3, 17, 18, 19, 22, 26, 27, 30, 31, 33, 43, 44, 46, 48, 50, 52, 54, 57, 60, 61, 67, 71, 72, 74, 75, 79, 83, 84, 85, 90, 93, 97, 99, 101, 102, 106, 108, 109, 112, 116, 127, 129, 131, 133, 135, 136, 137, 139, 143, 146, 150, 151, 153, 154, 158, 160, 166, 170, 171, 173, 176, 177, 183, 184], 'pink': [7, 9, 10, 11, 14, 15, 17, 20, 21, 23, 24, 31, 32, 33, 34, 35, 40, 42, 45, 47, 58, 60, 62, 63, 66, 79, 89, 93, 95, 96, 99, 100, 101, 105, 110, 116, 120, 122, 125, 129, 131, 132, 133, 139, 140, 142, 143, 148, 156, 159, 161, 163, 165, 167, 168, 169, 170, 171, 173, 175, 177, 180, 183], 'purple': [5, 7, 11, 15, 17, 18, 26, 28, 30, 39, 46, 47, 51, 53, 59, 62, 67, 71, 75, 76, 85, 88, 89, 91, 94, 97, 103, 104, 105, 106, 108, 109, 110, 112, 113, 123, 128, 132, 135, 145, 146, 147, 153, 155, 157, 160, 164, 169, 170, 171, 172, 174, 176, 181, 184], 'red': [1, 2, 5, 7, 10, 15, 16, 19, 22, 24, 27, 29, 30, 34, 36, 38, 44, 45, 50, 51, 52, 54, 56, 62, 65, 67, 73, 76, 88, 90, 91, 94, 95, 96, 98, 100, 102, 105, 107, 109, 114, 115, 118, 126, 129, 136, 140, 141, 144, 146, 147, 149, 151, 154, 163, 168, 169, 170, 172, 174, 179, 180, 183, 184], 'silver': [0, 3, 12, 17, 19, 21, 22, 24, 27, 33, 38, 40, 45, 46, 49, 51, 52, 53, 54, 55, 58, 59, 63, 64, 66, 74, 79, 80, 81, 84, 96, 98, 99, 100, 101, 103, 104, 109, 113, 114, 118, 121, 124, 127, 128, 134, 140, 142, 144, 145, 148, 150, 151, 156, 163, 170, 172, 173, 179, 181, 183], 'teal': [0, 3, 6, 7, 10, 13, 17, 18, 19, 21, 22, 26, 27, 29, 30, 31, 33, 34, 37, 38, 40, 42, 43, 44, 47, 51, 54, 55, 56, 60, 61, 64, 66, 71, 77, 81, 88, 90, 91, 92, 94, 98, 100, 101, 102, 104, 109, 111, 114, 118, 120, 124, 126, 136, 137, 141, 142, 143, 147, 151, 153, 158, 159, 166, 170, 171, 173, 181, 182], 'white': [0, 2, 5, 8, 9, 10, 13, 14, 16, 21, 22, 25, 28, 30, 36, 37, 39, 40, 41, 43, 44, 49, 52, 55, 62, 64, 65, 67, 70, 71, 78, 79, 80, 84, 88, 92, 93, 97, 103, 105, 106, 107, 108, 117, 121, 122, 130, 132, 133, 138, 144, 145, 149, 152, 155, 169, 171, 178, 184], 'yellow': [5, 6, 10, 11, 14, 15, 23, 24, 26, 31, 35, 38, 40, 41, 42, 44, 46, 48, 50, 51, 58, 66, 71, 72, 73, 74, 82, 84, 86, 89, 93, 97, 98, 99, 100, 106, 113, 114, 117, 119, 123, 127, 135, 138, 139, 140, 147, 148, 149, 154, 155, 157, 162, 169, 174, 175, 176, 179, 181, 182], 'index': [0, 1, 2, 3, 4, 5, 6, 7, 8, 9, 10, 11, 12, 13, 14, 15, 16, 17, 18, 19, 20, 21, 22, 23, 24, 25, 26, 27, 28, 29, 30, 31, 32, 33, 34, 35, 36, 37, 38, 39, 40, 41, 42, 43, 44, 45, 46, 47, 48, 49, 50, 51, 52, 53, 54, 55, 56, 57, 58, 59, 60, 61, 62, 63, 64, 65, 66, 67, 68, 69, 70, 71, 72, 73, 74, 75, 76, 77, 78, 79, 80, 81, 82, 83, 84, 85, 86, 87, 88, 89, 90, 91, 92, 93, 94, 95, 96, 97, 98, 99, 100, 101, 102, 103, 104, 105, 106, 107, 108, 109, 110, 111, 112, 113, 114, 115, 116, 117, 118, 119, 120, 121, 122, 123, 124, 125, 126, 127, 128, 129, 130, 131, 132, 133, 134, 135, 136, 137, 138, 139, 140, 141, 142, 143, 144, 145, 146, 147, 148, 149, 150, 151, 152, 153, 154, 155, 156, 157, 158, 159, 160, 161, 162, 163, 164, 165, 166, 167, 168, 169, 170, 171, 172, 173, 174, 175, 176, 177, 178, 179, 180, 181, 182, 183, 184]})\n"
     ]
    }
   ],
   "source": [
    "from collections import defaultdict\n",
    "\n",
    "tag_storage = defaultdict(list)\n",
    "\n",
    "for tag in no_dupes:\n",
    "    for index in range(data.shape[0]):\n",
    "        current_tag = data.loc[index, \"tag\"]\n",
    "        if tag in current_tag:\n",
    "            tag_storage[tag].append(index)\n",
    "\n",
    "tag_storage[\"index\"] = list(data.index)\n",
    "\n",
    "print(tag_storage)"
   ]
  },
  {
   "cell_type": "markdown",
   "metadata": {},
   "source": [
    "## Templates"
   ]
  },
  {
   "cell_type": "markdown",
   "metadata": {},
   "source": [
    "### Jumbotron"
   ]
  },
  {
   "cell_type": "code",
   "execution_count": 18,
   "metadata": {},
   "outputs": [],
   "source": [
    "jumbotron_home = '''\n",
    "<div class=\"jumbotron jumbotron-fluid text-center m-0\" \n",
    "style = \"padding: 8rem 0rem;\n",
    "            background-size:cover; \n",
    "         background-image: url('../data/birds-cold-conifer-917494.jpg');\">\n",
    "      <div class=\"container\">\n",
    "        <h1 class=\"display-2\">\n",
    "          Daniels Generated Album\n",
    "        </h1>\n",
    "        <p class=\"lead\">\n",
    "        A static website generated in jupyter notebooks & bootstrap 4 framework.\n",
    "        </p>\n",
    "        <p>\n",
    "          <a class=\"btn btn-outline-success my-2\" href=\"#\">\n",
    "          Primary\n",
    "          </a>\n",
    "          <a class=\"btn btn-outline-success my-2\" href=\"#\">\n",
    "          Secondary\n",
    "          </a>\n",
    "        </p>\n",
    "      </div>\n",
    "    </div>\n",
    "'''"
   ]
  },
  {
   "cell_type": "markdown",
   "metadata": {},
   "source": [
    "### Pagination - Variable"
   ]
  },
  {
   "cell_type": "code",
   "execution_count": 19,
   "metadata": {},
   "outputs": [],
   "source": [
    "pagination = '<div class = \"text-center pb-4 text-muted bg-light\">\\\n",
    "  <div class = \"btn-group\">\\\n",
    "    <a href = \"{tag}{first}.html\" class = \"btn btn-outline-'+outline_button+' {class1}\">First</a>\\\n",
    "    <a href = \"{tag}{prev}.html\" class = \"btn btn-outline-'+outline_button+' {class1}\">Previous</a>\\\n",
    "    <a class = \"btn btn-outline-'+outline_button+' active\">Page {page}</a>\\\n",
    "    <a href = \"{tag}{next_}.html\" class = \"btn btn-outline-'+outline_button+' {class2}\">Next</a>\\\n",
    "    <a href = \"{tag}{last}.html\"class = \"btn btn-outline-'+outline_button+' {class2}\">Last</a>\\\n",
    "  </div>\\\n",
    "</div>'\n",
    "\n",
    "pagination2 = '''\n",
    "<div class = \"text-center pb-4 text-muted bg-light\">\n",
    "  <div class = \"btn-group\">\n",
    "    <a class = \"btn btn-outline-'+outline_button+' active\">Page {page}</a>\n",
    "  </div>\n",
    "</div>\n",
    "'''"
   ]
  },
  {
   "cell_type": "markdown",
   "metadata": {},
   "source": [
    "### Card "
   ]
  },
  {
   "cell_type": "code",
   "execution_count": 20,
   "metadata": {},
   "outputs": [],
   "source": [
    "card = '''\n",
    "<section class = \"col-lg-4 col-md-6 mb-4\">\\\n",
    "    <div class=\"card\" style=\"height:100%;\">\\\n",
    "        <div class = \"card-header p-3\" style = \"background-color: {header_background};\">\\\n",
    "            <h5 class = \"p-0 m-0\">{filename}</h5>\\\n",
    "        <div class = \"card-subtitle p-0 m-0 text-muted\">{subtitle}</div>\\\n",
    "        </div>\\\n",
    "        {visual_tag_start}{relative_data_path}{filename}{visual_tag_end}\\\n",
    "        <div class=\"card-body\">\\\n",
    "        <p class=\"card-text\">{text}</p>\\\n",
    "        <div class=\"btn-group p-0 m-0\">\\\n",
    "        <a class=\"btn btn-sm btn-outline-{outline_button}\" href=\"{relative_data_path}{filename}\" role=\"button\">View</a>\\\n",
    "        <a class=\"btn btn-sm btn-outline-{outline_button}\" href =\"{relative_data_path}{filename}\" download = \"{filename}\" role=\"button\">Download</a>\\\n",
    "        </div>\\\n",
    "        </div>\\\n",
    "        <div class = \"p-3 bg-light\">\\\n",
    "        {tags_html_block}\\\n",
    "        </div>\\\n",
    "    </div>\\\n",
    "</section>\n",
    "'''"
   ]
  },
  {
   "cell_type": "markdown",
   "metadata": {},
   "source": [
    "### Skeleton"
   ]
  },
  {
   "cell_type": "code",
   "execution_count": 21,
   "metadata": {},
   "outputs": [],
   "source": [
    "skeleton = '''\n",
    "<!DOCTYPE html>\n",
    "<html lang=\"en\">\n",
    "  <head>\n",
    "    <meta charset=\"utf-8\"/>\n",
    "    <meta content=\"width=device-width, initial-scale=1, shrink-to-fit=no\" name=\"viewport\"/>\n",
    "    <meta content=\"\" name=\"description\"/>\n",
    "    <meta content=\"\" name=\"author\"/>\n",
    "    <link href=\"../../../../favicon.ico\" rel=\"icon\"/>\n",
    "    <title>\n",
    "      Daniels Generated Gallery\n",
    "    </title>\n",
    "    <!-- Bootstrap CSS -->\n",
    "    ''' + set_link + '''\n",
    "    <link crossorigin=\"anonymous\" href=\"https://stackpath.bootstrapcdn.com/bootstrap/4.1.1/css/bootstrap.min.css\" integrity=\"sha384-WskhaSGFgHYWDcbwN70/dfYBj47jz9qbsMId/iRN3ewGhXQFZCSftd1LZCfmhktB\" rel=\"stylesheet\"/>\n",
    "    <!-- Custom styles for this template -->\n",
    "    <link href=\"album.css\" rel=\"stylesheet\"/>\n",
    "  </head>\n",
    "  <body class = \"bg-light\" style = \"'''+set_style+'''\">\n",
    "    <header style = \"background-color:'''+navbar_background+''';\">\n",
    "       <div class=\"container\">\n",
    "        <nav class=\"navbar navbar-expand-lg navbar-dark py-1\" style = \"background-color:'''+navbar_background+''';\">\n",
    "         <a class=\"navbar-brand\" href=\"#\">\n",
    "          <img alt=\"\" class=\"d-inline-block\" height=\"36\" src=\"../logo/analytics.svg\" width=\"36\"/>\n",
    "         </a>\n",
    "         <button aria-controls=\"navbarColor03\" aria-expanded=\"false\" aria-label=\"Toggle navigation\" class=\"navbar-toggler collapsed\" data-target=\"#navbarColor03\" data-toggle=\"collapse\" type=\"button\">\n",
    "          <span class=\"navbar-toggler-icon\">\n",
    "          </span>\n",
    "         </button>\n",
    "         <div class=\"navbar-collapse collapse\" id=\"navbarColor03\" style=\"\">\n",
    "          <ul class=\"navbar-nav mr-auto\">\n",
    "           <li class=\"nav-item\">\n",
    "            <a class=\"nav-link\" href=\"index0.html\">\n",
    "             Home\n",
    "             <span class=\"sr-only\">\n",
    "              (current)\n",
    "             </span>\n",
    "            </a>\n",
    "           </li>\n",
    "           <li class=\"nav-item\">\n",
    "            <a class=\"nav-link\" href=\"https://github.com/danielc92/static_site_generator\">\n",
    "             View Source Code\n",
    "            </a>\n",
    "           </li>\n",
    "          </ul>\n",
    "         </div>\n",
    "    </nav>\n",
    "   </div>\n",
    "  </header>\n",
    "    \n",
    "    \n",
    "    {}\n",
    "    \n",
    "    \n",
    "    \n",
    "    <div class=\"album bg-light\">\n",
    "      <div class=\"container\">\n",
    "        <div class=\"row mt-3\">\n",
    "          \n",
    "          {}\n",
    "        \n",
    "        \n",
    "        </div>\n",
    "      </div>\n",
    "    </div>\n",
    "    \n",
    "    {}\n",
    "    \n",
    "    <footer class=\"text-light py-3\" style = \"background-color: '''+footer_background+''';\">\n",
    "      <div class=\"container\">\n",
    "        <span>&copy; Copyright DanielsGenerator</span>\n",
    "        <span class=\"float-right\">\n",
    "        <a href=\"#\">\n",
    "        Back to top\n",
    "        </a>\n",
    "        </span>\n",
    "      </div>\n",
    "    </footer>\n",
    "    <!-- Optional JavaScript -->\n",
    "    <!-- jQuery first, then Popper.js, then Bootstrap JS -->\n",
    "    <script crossorigin=\"anonymous\" integrity=\"sha384-q8i/X+965DzO0rT7abK41JStQIAqVgRVzpbzo5smXKp4YfRvH+8abtTE1Pi6jizo\" src=\"https://code.jquery.com/jquery-3.3.1.slim.min.js\"></script>\n",
    "    <script crossorigin=\"anonymous\" integrity=\"sha384-ZMP7rVo3mIykV+2+9J3UJ46jBk0WLaUAdn689aCwoqbBJiSnjAK/l8WvCWPIPm49\" src=\"https://cdnjs.cloudflare.com/ajax/libs/popper.js/1.14.3/umd/popper.min.js\"></script>\n",
    "    <script crossorigin=\"anonymous\" integrity=\"sha384-smHYKdLADwkXOn1EmN1qk/HfnUcbVRZyYmZ4qpPea6sjB/pTJ0euyQp0Mk8ck+5T\" src=\"https://stackpath.bootstrapcdn.com/bootstrap/4.1.1/js/bootstrap.min.js\"></script>\n",
    "  </body>\n",
    "</html>\n",
    "'''"
   ]
  },
  {
   "cell_type": "markdown",
   "metadata": {},
   "source": [
    "# Before Generation - Delete all previous `.html`"
   ]
  },
  {
   "cell_type": "code",
   "execution_count": 22,
   "metadata": {},
   "outputs": [
    {
     "data": {
      "text/plain": [
       "[None,\n",
       " None,\n",
       " None,\n",
       " None,\n",
       " None,\n",
       " None,\n",
       " None,\n",
       " None,\n",
       " None,\n",
       " None,\n",
       " None,\n",
       " None,\n",
       " None,\n",
       " None,\n",
       " None,\n",
       " None,\n",
       " None,\n",
       " None,\n",
       " None,\n",
       " None,\n",
       " None,\n",
       " None,\n",
       " None,\n",
       " None,\n",
       " None,\n",
       " None,\n",
       " None,\n",
       " None,\n",
       " None,\n",
       " None,\n",
       " None,\n",
       " None,\n",
       " None,\n",
       " None,\n",
       " None,\n",
       " None,\n",
       " None,\n",
       " None,\n",
       " None,\n",
       " None,\n",
       " None,\n",
       " None,\n",
       " None,\n",
       " None,\n",
       " None,\n",
       " None,\n",
       " None,\n",
       " None,\n",
       " None,\n",
       " None,\n",
       " None,\n",
       " None,\n",
       " None,\n",
       " None,\n",
       " None,\n",
       " None,\n",
       " None,\n",
       " None,\n",
       " None,\n",
       " None,\n",
       " None,\n",
       " None,\n",
       " None,\n",
       " None,\n",
       " None,\n",
       " None,\n",
       " None,\n",
       " None,\n",
       " None,\n",
       " None,\n",
       " None,\n",
       " None,\n",
       " None,\n",
       " None,\n",
       " None,\n",
       " None,\n",
       " None,\n",
       " None,\n",
       " None]"
      ]
     },
     "execution_count": 22,
     "metadata": {},
     "output_type": "execute_result"
    }
   ],
   "source": [
    "[os.remove(html_path + file) for file in os.listdir(html_path) if '.html' in file]"
   ]
  },
  {
   "cell_type": "markdown",
   "metadata": {},
   "source": [
    "# Generate the website\n",
    "\n",
    "\n",
    "- **ITERATE THROUGH EACH TAG `tag_storage` (the higest level)**\n",
    "    - Iterate through every `tag` in `tag_storage` dictionary\n",
    "    - Work out `total_items`, `excess_items`, `total_pages`\n",
    "    - Calculate `nested_page_indices`\n",
    "    \n",
    "\n",
    "- **ITERATE THROUGH EACH PAGE IN `tag_level_items`** (second level, represents html pages, containing `items_per_page` items)\n",
    "    - Calculate `previous_index` and `next_index`, used for pagination linking\n",
    "    - Calculate pagination html\n",
    "    - Calculate which jumbotron variable to use\n",
    "\n",
    "\n",
    "\n",
    "- **ITERATE THROUGH EACH FILE IN `page_items`** (lowest level, represents filenames)\n",
    "    - Calculate `filename` and `filetags` variables\n",
    "    - Calculate html block using `filetags` variable\n",
    "    - Calculate group of bootstrap cards for body (`cards`)"
   ]
  },
  {
   "cell_type": "code",
   "execution_count": 23,
   "metadata": {},
   "outputs": [
    {
     "name": "stdout",
     "output_type": "stream",
     "text": [
      "Processing tag_storage key: black\n",
      "\tFile successfully written to ./html/black0.html\n",
      "\tFile successfully written to ./html/black1.html\n",
      "\tFile successfully written to ./html/black2.html\n",
      "\tFile successfully written to ./html/black3.html\n",
      "\tFile successfully written to ./html/black4.html\n",
      "\tFile successfully written to ./html/black5.html\n",
      "Processing tag_storage key: blue\n",
      "\tFile successfully written to ./html/blue0.html\n",
      "\tFile successfully written to ./html/blue1.html\n",
      "\tFile successfully written to ./html/blue2.html\n",
      "\tFile successfully written to ./html/blue3.html\n",
      "\tFile successfully written to ./html/blue4.html\n",
      "\tFile successfully written to ./html/blue5.html\n",
      "Processing tag_storage key: grey\n",
      "\tFile successfully written to ./html/grey0.html\n",
      "\tFile successfully written to ./html/grey1.html\n",
      "\tFile successfully written to ./html/grey2.html\n",
      "\tFile successfully written to ./html/grey3.html\n",
      "\tFile successfully written to ./html/grey4.html\n",
      "\tFile successfully written to ./html/grey5.html\n",
      "Processing tag_storage key: orange\n",
      "\tFile successfully written to ./html/orange0.html\n",
      "\tFile successfully written to ./html/orange1.html\n",
      "\tFile successfully written to ./html/orange2.html\n",
      "\tFile successfully written to ./html/orange3.html\n",
      "\tFile successfully written to ./html/orange4.html\n",
      "\tFile successfully written to ./html/orange5.html\n",
      "Processing tag_storage key: pink\n",
      "\tFile successfully written to ./html/pink0.html\n",
      "\tFile successfully written to ./html/pink1.html\n",
      "\tFile successfully written to ./html/pink2.html\n",
      "\tFile successfully written to ./html/pink3.html\n",
      "\tFile successfully written to ./html/pink4.html\n",
      "\tFile successfully written to ./html/pink5.html\n",
      "Processing tag_storage key: purple\n",
      "\tFile successfully written to ./html/purple0.html\n",
      "\tFile successfully written to ./html/purple1.html\n",
      "\tFile successfully written to ./html/purple2.html\n",
      "\tFile successfully written to ./html/purple3.html\n",
      "\tFile successfully written to ./html/purple4.html\n",
      "Processing tag_storage key: red\n",
      "\tFile successfully written to ./html/red0.html\n",
      "\tFile successfully written to ./html/red1.html\n",
      "\tFile successfully written to ./html/red2.html\n",
      "\tFile successfully written to ./html/red3.html\n",
      "\tFile successfully written to ./html/red4.html\n",
      "\tFile successfully written to ./html/red5.html\n",
      "Processing tag_storage key: silver\n",
      "\tFile successfully written to ./html/silver0.html\n",
      "\tFile successfully written to ./html/silver1.html\n",
      "\tFile successfully written to ./html/silver2.html\n",
      "\tFile successfully written to ./html/silver3.html\n",
      "\tFile successfully written to ./html/silver4.html\n",
      "\tFile successfully written to ./html/silver5.html\n",
      "Processing tag_storage key: teal\n",
      "\tFile successfully written to ./html/teal0.html\n",
      "\tFile successfully written to ./html/teal1.html\n",
      "\tFile successfully written to ./html/teal2.html\n",
      "\tFile successfully written to ./html/teal3.html\n",
      "\tFile successfully written to ./html/teal4.html\n",
      "\tFile successfully written to ./html/teal5.html\n",
      "Processing tag_storage key: white\n",
      "\tFile successfully written to ./html/white0.html\n",
      "\tFile successfully written to ./html/white1.html\n",
      "\tFile successfully written to ./html/white2.html\n",
      "\tFile successfully written to ./html/white3.html\n",
      "\tFile successfully written to ./html/white4.html\n",
      "Processing tag_storage key: yellow\n",
      "\tFile successfully written to ./html/yellow0.html\n",
      "\tFile successfully written to ./html/yellow1.html\n",
      "\tFile successfully written to ./html/yellow2.html\n",
      "\tFile successfully written to ./html/yellow3.html\n",
      "\tFile successfully written to ./html/yellow4.html\n",
      "Processing tag_storage key: index\n",
      "\tFile successfully written to ./html/index0.html\n",
      "\tFile successfully written to ./html/index1.html\n",
      "\tFile successfully written to ./html/index2.html\n",
      "\tFile successfully written to ./html/index3.html\n",
      "\tFile successfully written to ./html/index4.html\n",
      "\tFile successfully written to ./html/index5.html\n",
      "\tFile successfully written to ./html/index6.html\n",
      "\tFile successfully written to ./html/index7.html\n",
      "\tFile successfully written to ./html/index8.html\n",
      "\tFile successfully written to ./html/index9.html\n",
      "\tFile successfully written to ./html/index10.html\n",
      "\tFile successfully written to ./html/index11.html\n",
      "\tFile successfully written to ./html/index12.html\n",
      "\tFile successfully written to ./html/index13.html\n",
      "\tFile successfully written to ./html/index14.html\n",
      "\tFile successfully written to ./html/index15.html\n"
     ]
    }
   ],
   "source": [
    "#ITERATE THROUGH EACH TAG IN tag_storage\n",
    "\n",
    "for tag, file_list in tag_storage.items():\n",
    "    \n",
    "    print('Processing tag_storage key:', tag)\n",
    "    tag_level_items = cluster(file_list, items_per_page)\n",
    "    \n",
    "    #ITERATE THROUGH EACH PAGE IN tag_level_items\n",
    "\n",
    "    for page_index, page_items in enumerate(tag_level_items):\n",
    "    \n",
    "        # WORK OUT INDEX FOR PAGES LATERALLY\n",
    "        previous_index = page_index - 1\n",
    "        next_index = page_index + 1\n",
    "        total_pages = len(tag_level_items)\n",
    "        last_index = len(tag_level_items)-1\n",
    "        #PAGINATION\n",
    "        if total_pages == 1:\n",
    "            pagination_final = pagination2.format(page=page_index)\n",
    "        else:\n",
    "            if page_index == 0:\n",
    "                pagination_final = pagination.format(tag=tag, first=0, prev=previous_index, page = page_index, \n",
    "                                                     next_ = next_index, last = last_index, class1 = disabled, class2 = nothing)\n",
    "            elif page_index == last_index:\n",
    "                pagination_final = pagination.format(tag=tag, first=0, prev=previous_index, page = page_index, \n",
    "                                                     next_ = next_index, last = last_index, class1 = nothing, class2 = disabled)\n",
    "            else:\n",
    "                pagination_final = pagination.format(tag=tag, first=0, prev=previous_index, page = page_index, \n",
    "                                                     next_ = next_index, last = last_index, class1 = nothing, class2 = nothing)\n",
    "\n",
    "        if page_index == 0:\n",
    "            jumbotron_final = jumbotron_home\n",
    "        else:\n",
    "            jumbotron_final = ''\n",
    "            \n",
    "        # CREATE EMPTY CARDS \n",
    "        cards = ''\n",
    "        \n",
    "        # FILE LEVEL LOOP\n",
    "        for index2, file_index in enumerate(page_items):\n",
    "            \n",
    "            filename = data.loc[file_index, 'filename']\n",
    "            filetags = data.loc[file_index, 'tag']\n",
    "\n",
    "            tags_split = filetags.split(',')\n",
    "            tags_html_block = ''\n",
    "\n",
    "            for tag_name in tags_split:\n",
    "                tags_html_block = tags_html_block + \\\n",
    "                '<a href = \"'+tag_name+'0.html\" class = \"badge badge-pill\" style = \"color:'+ pill_foreground +' ;background-color:'+ pill_background +';\">'+tag_name+'</a>'\n",
    "            \n",
    "            # Generate random text\n",
    "            text = return_random_text(30,40)\n",
    "            subtitle = return_random_text(6,8)\n",
    "            \n",
    "            cards = cards + card.format(filename=filename, header_background=header_background, subtitle=subtitle,\n",
    "                       visual_tag_end=visual_tag_end, visual_tag_start=visual_tag_start, text=text, \n",
    "                       outline_button=outline_button, relative_data_path=relative_data_path, tags_html_block=tags_html_block)\n",
    "            \n",
    "        # BUILD FULL HTML CODE ON PAGE LEVEL\n",
    "        full = skeleton.format(jumbotron_final, cards, pagination_final)\n",
    "\n",
    "        # PRETTIFY/FORMAT THE FULL HTML CODE\n",
    "        full_soup = bs4.BeautifulSoup(full, 'lxml')\n",
    "        full_pretty = full_soup.prettify()\n",
    "\n",
    "        #EXPORT HTML\n",
    "        export_path = './html/{}{}.html'.format(tag, page_index)\n",
    "        \n",
    "        with open(export_path, \"w\") as f:\n",
    "            f.write(full_pretty)\n",
    "            f.close()\n",
    "            print('\\tFile successfully written to', export_path)"
   ]
  },
  {
   "cell_type": "code",
   "execution_count": null,
   "metadata": {},
   "outputs": [],
   "source": []
  }
 ],
 "metadata": {
  "kernelspec": {
   "display_name": "Python 3",
   "language": "python",
   "name": "python3"
  },
  "language_info": {
   "codemirror_mode": {
    "name": "ipython",
    "version": 3
   },
   "file_extension": ".py",
   "mimetype": "text/x-python",
   "name": "python",
   "nbconvert_exporter": "python",
   "pygments_lexer": "ipython3",
   "version": "3.6.5"
  },
  "toc": {
   "base_numbering": 1,
   "nav_menu": {},
   "number_sections": true,
   "sideBar": true,
   "skip_h1_title": false,
   "title_cell": "Table of Contents",
   "title_sidebar": "Contents",
   "toc_cell": false,
   "toc_position": {
    "height": "calc(100% - 180px)",
    "left": "10px",
    "top": "150px",
    "width": "253px"
   },
   "toc_section_display": true,
   "toc_window_display": true
  },
  "varInspector": {
   "cols": {
    "lenName": 16,
    "lenType": 16,
    "lenVar": 40
   },
   "kernels_config": {
    "python": {
     "delete_cmd_postfix": "",
     "delete_cmd_prefix": "del ",
     "library": "var_list.py",
     "varRefreshCmd": "print(var_dic_list())"
    },
    "r": {
     "delete_cmd_postfix": ") ",
     "delete_cmd_prefix": "rm(",
     "library": "var_list.r",
     "varRefreshCmd": "cat(var_dic_list()) "
    }
   },
   "types_to_exclude": [
    "module",
    "function",
    "builtin_function_or_method",
    "instance",
    "_Feature"
   ],
   "window_display": false
  }
 },
 "nbformat": 4,
 "nbformat_minor": 2
}
