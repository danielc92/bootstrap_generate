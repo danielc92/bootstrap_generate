{
 "cells": [
  {
   "cell_type": "markdown",
   "metadata": {},
   "source": [
    "# Imports"
   ]
  },
  {
   "cell_type": "code",
   "execution_count": 1,
   "metadata": {},
   "outputs": [],
   "source": [
    "import os\n",
    "import pandas\n",
    "import bs4\n",
    "import math\n",
    "import datetime\n",
    "import random\n",
    "from numpy.random import randint as ri"
   ]
  },
  {
   "cell_type": "markdown",
   "metadata": {},
   "source": [
    "# Helper functions"
   ]
  },
  {
   "cell_type": "markdown",
   "metadata": {},
   "source": [
    "### Generate random text"
   ]
  },
  {
   "cell_type": "code",
   "execution_count": 2,
   "metadata": {},
   "outputs": [],
   "source": [
    "lorem = 'Lorem ipsum dolor sit amet, consectetur adipiscing elit, sed do eiusmod tempor incididunt ut labore et dolore magna aliqua. Ut enim ad minim veniam, quis nostrud exercitation ullamco laboris nisi ut aliquip ex ea commodo consequat. Duis aute irure dolor in reprehenderit in voluptate velit esse cillum dolore eu fugiat nulla pariatur. Excepteur sint occaecat cupidatat non proident, sunt in culpa qui officia deserunt mollit anim id est laborum.'\n",
    "lorem_parts = lorem.split()\n",
    "\n",
    "def return_random_text(lower, upper):\n",
    "    # Random number of words between 0-30\n",
    "    num_words = ri(lower, upper)\n",
    "    words = [lorem_parts[ri(0, len(lorem_parts))] for num in range(num_words)]\n",
    "    paragraph = ' '.join(words)\n",
    "    return paragraph.capitalize()"
   ]
  },
  {
   "cell_type": "markdown",
   "metadata": {},
   "source": [
    "### Generate random tags"
   ]
  },
  {
   "cell_type": "code",
   "execution_count": 3,
   "metadata": {},
   "outputs": [],
   "source": [
    "test_tags = ['blue', 'red', 'yellow', 'purple', 'grey', 'white', 'black', 'teal', 'orange', 'silver', 'pink', 'brown']\n",
    "\n",
    "def generate_tags():\n",
    "    tags = ''\n",
    "    tag_list = [test_tags[ri(0, len(test_tags)-1)] for tag in range(ri(2,8))]\n",
    "    tags = ','.join(tag_list)\n",
    "    return tags"
   ]
  },
  {
   "cell_type": "markdown",
   "metadata": {},
   "source": [
    "### Generate lists of lists (for pagination)"
   ]
  },
  {
   "cell_type": "code",
   "execution_count": 4,
   "metadata": {},
   "outputs": [],
   "source": [
    "def cluster(sequence, per_group):\n",
    "    steps = list(range(0, len(sequence), per_group))\n",
    "    groups = []\n",
    "    for index, step in enumerate(steps):\n",
    "        temp = list()\n",
    "        for n in range(per_group):\n",
    "            absolute_index = (index + 1) * per_group - per_group + n\n",
    "            if absolute_index < len(sequence):\n",
    "                temp.append(sequence[step])\n",
    "                step = step + 1\n",
    "        groups.append(temp)\n",
    "    return groups"
   ]
  },
  {
   "cell_type": "markdown",
   "metadata": {},
   "source": [
    "# Generator settings\n",
    "- data paths\n",
    "- fonts\n",
    "- bootstrap colour theming\n",
    "- pagination options"
   ]
  },
  {
   "cell_type": "markdown",
   "metadata": {},
   "source": [
    "### Paths"
   ]
  },
  {
   "cell_type": "code",
   "execution_count": 5,
   "metadata": {},
   "outputs": [],
   "source": [
    "data_path = './data/pokemon_svg/'\n",
    "relative_data_path = '../data/pokemon_svg/'\n",
    "html_path = './html/'"
   ]
  },
  {
   "cell_type": "markdown",
   "metadata": {},
   "source": [
    "### Site Fonts"
   ]
  },
  {
   "cell_type": "code",
   "execution_count": 6,
   "metadata": {},
   "outputs": [],
   "source": [
    "google_fonts = {\"bootstrap\":{\"link\":'',\n",
    "                            \"specify\":'',\n",
    "                            \"url\":None},\n",
    "                \n",
    "                \"raleway\":{\"link\":'<link href=\"https://fonts.googleapis.com/css?family=Raleway\" rel=\"stylesheet\">',\n",
    "                          \"specify\":\"font-family: 'Raleway', sans-serif;\",\n",
    "                          \"url\":\"https://fonts.google.com/specimen/Raleway?selection.family=Raleway\"},\n",
    "                \n",
    "                \"open_sans\":{\"link\":'<link href=\"https://fonts.googleapis.com/css?family=Open+Sans\" rel=\"stylesheet\">',\n",
    "                        \"specify\":\"font-family: 'Open Sans', sans-serif;\",\n",
    "                       \"url\":\"https://fonts.google.com/specimen/Open+Sans?selection.family=Open+Sans\"},\n",
    "                \n",
    "                \"roboto\":{\"link\":'<link href=\"https://fonts.googleapis.com/css?family=Roboto\" rel=\"stylesheet\">',\n",
    "                         \"specify\":\"font-family: 'Roboto', sans-serif;\",\n",
    "                         \"url\":\"https://fonts.google.com/specimen/Roboto?selection.family=Roboto\"},\n",
    "                \n",
    "                \"ubuntu\":{\"link\":'<link href=\"https://fonts.googleapis.com/css?family=Ubuntu\" rel=\"stylesheet\"> ',\n",
    "                         \"specify\":\"font-family: 'Ubuntu', sans-serif;\",\n",
    "                         \"url\": \"https://fonts.google.com/specimen/Ubuntu?selection.family=Ubuntu\"}}"
   ]
  },
  {
   "cell_type": "code",
   "execution_count": 7,
   "metadata": {},
   "outputs": [
    {
     "name": "stdout",
     "output_type": "stream",
     "text": [
      "Font has been set to ubuntu\n"
     ]
    }
   ],
   "source": [
    "selected_font = 'ubuntu'\n",
    "\n",
    "set_link = google_fonts[selected_font]['link']\n",
    "set_style = google_fonts[selected_font]['specify']\n",
    "print('Font has been set to {}'.format(selected_font))"
   ]
  },
  {
   "cell_type": "markdown",
   "metadata": {},
   "source": [
    "### Site Colours"
   ]
  },
  {
   "cell_type": "code",
   "execution_count": 8,
   "metadata": {},
   "outputs": [],
   "source": [
    "jumbotron_background = '#1d91c0'\n",
    "jumbotron_foreground = '#FFFFFF'\n",
    "outline_button = 'dark'\n",
    "header_foreground = '#44494a'\n",
    "header_background = '#FFFFFF'\n",
    "navbar_background = '#414242'\n",
    "footer_background = '#414242'\n",
    "pill_background = '#1d91c0'\n",
    "pill_foreground  = '#FFFFFF'"
   ]
  },
  {
   "cell_type": "markdown",
   "metadata": {},
   "source": [
    "### Site pagination"
   ]
  },
  {
   "cell_type": "code",
   "execution_count": 9,
   "metadata": {},
   "outputs": [],
   "source": [
    "items_per_page = 12\n",
    "\n",
    "svg = True\n",
    "\n",
    "if svg == True:\n",
    "    visual_tag_start = '<object class = \"p-1\" height=100% width=100% type=\"image/svg+xml\" data=\"'\n",
    "    visual_tag_end = '\">Your browser does not support SVG</object>'\n",
    "else:\n",
    "    visual_tag_start = '<img class=\"card-img-top p-3\" src=\"'\n",
    "    visual_tag_end = '\" alt=\"Card image cap\">'"
   ]
  },
  {
   "cell_type": "markdown",
   "metadata": {},
   "source": [
    "### Set enabled/disabled variables used to switch buttons between enabled and disabled modes"
   ]
  },
  {
   "cell_type": "code",
   "execution_count": 10,
   "metadata": {},
   "outputs": [],
   "source": [
    "nothing = ''\n",
    "disabled = 'disabled'"
   ]
  },
  {
   "cell_type": "markdown",
   "metadata": {},
   "source": [
    "## Read in data"
   ]
  },
  {
   "cell_type": "markdown",
   "metadata": {},
   "source": [
    "### Read filenames from data_path variable"
   ]
  },
  {
   "cell_type": "code",
   "execution_count": 11,
   "metadata": {},
   "outputs": [],
   "source": [
    "all_filenames = [file for file in os.listdir(data_path) if 'DS_Store' not in file]"
   ]
  },
  {
   "cell_type": "markdown",
   "metadata": {},
   "source": [
    "### Store filenames in dataframe"
   ]
  },
  {
   "cell_type": "code",
   "execution_count": 12,
   "metadata": {},
   "outputs": [],
   "source": [
    "data = pandas.DataFrame()\n",
    "data[\"filename\"] = pandas.Series(all_filenames)"
   ]
  },
  {
   "cell_type": "markdown",
   "metadata": {},
   "source": [
    "### Create tags for testing purposes\n",
    "- Create list of possible tags, this is arbitrary\n",
    "- For each row in dataset containing filenames, calculate a random number (number of tags for this particular file), then for each increment of this random number assign a random tag from test_tags list"
   ]
  },
  {
   "cell_type": "code",
   "execution_count": 13,
   "metadata": {},
   "outputs": [],
   "source": [
    "for index in range(data.shape[0]):\n",
    "    data.loc[index, \"tag\"] = generate_tags()"
   ]
  },
  {
   "cell_type": "markdown",
   "metadata": {},
   "source": [
    "### Extract unique tags from dataframe"
   ]
  },
  {
   "cell_type": "code",
   "execution_count": 14,
   "metadata": {},
   "outputs": [],
   "source": [
    "tag_string = ','.join(data['tag'].tolist())"
   ]
  },
  {
   "cell_type": "code",
   "execution_count": 15,
   "metadata": {},
   "outputs": [],
   "source": [
    "tags_including_dupes = [tag for tag in tag_string.split(',') if len(tag)> 0]"
   ]
  },
  {
   "cell_type": "code",
   "execution_count": 16,
   "metadata": {},
   "outputs": [],
   "source": [
    "no_dupes = sorted(list(set(tags_including_dupes)))"
   ]
  },
  {
   "cell_type": "markdown",
   "metadata": {},
   "source": [
    "### Create dictionary to store indices for each tag\n",
    "- Create the dictionary to store each unique tag, tags will be used to filter items\n",
    "- Iterate through and its associated indices (each index for each filename associated with that tag)\n",
    "- Finally add an 'index' key with all indices, this will be used as an unfiltered set of pages\n",
    "- Preview dictionary to validate tag/index assignment"
   ]
  },
  {
   "cell_type": "code",
   "execution_count": 17,
   "metadata": {},
   "outputs": [
    {
     "name": "stdout",
     "output_type": "stream",
     "text": [
      "defaultdict(<class 'list'>, {'black': [0, 1, 5, 10, 11, 13, 17, 19, 20, 25, 26, 28, 31, 33, 40, 43, 44, 45, 46, 47, 50, 53, 54, 60, 64, 65, 72, 75, 80, 87, 89, 90, 93, 94, 96], 'blue': [0, 2, 3, 5, 9, 19, 26, 30, 34, 48, 49, 51, 54, 62, 63, 67, 70, 73, 74, 76, 79, 82, 84, 87, 92, 95, 98, 99], 'grey': [3, 4, 6, 8, 10, 12, 13, 15, 16, 17, 24, 30, 31, 32, 41, 45, 48, 52, 56, 57, 61, 63, 64, 65, 66, 67, 72, 77, 79, 80, 83, 84, 85, 86, 97], 'orange': [5, 10, 13, 16, 19, 21, 22, 27, 28, 33, 35, 38, 39, 40, 44, 45, 46, 49, 51, 55, 58, 63, 70, 71, 74, 84, 90, 92], 'pink': [16, 18, 26, 31, 32, 35, 38, 47, 48, 49, 50, 52, 55, 57, 59, 64, 66, 67, 71, 83, 86], 'purple': [2, 3, 7, 11, 16, 20, 23, 28, 32, 33, 38, 41, 42, 45, 46, 47, 49, 51, 52, 61, 62, 64, 67, 68, 70, 73, 79, 83, 86, 88, 91, 92, 93, 95, 98], 'red': [0, 4, 11, 13, 15, 20, 23, 34, 42, 45, 50, 53, 65, 68, 71, 74, 76, 78, 81, 82, 83, 85, 87, 88, 91, 92, 95, 96, 99], 'silver': [2, 6, 7, 14, 18, 19, 22, 25, 27, 29, 36, 37, 44, 46, 50, 55, 56, 59, 61, 65, 67, 68, 69, 75, 76, 78, 80, 81, 83, 88, 90, 94, 95, 98, 99], 'teal': [0, 1, 5, 12, 14, 17, 19, 26, 27, 32, 35, 36, 40, 42, 43, 49, 50, 52, 55, 61, 70, 71, 77, 81, 86, 87, 88, 89, 91, 94, 95, 97, 98], 'white': [3, 11, 13, 15, 17, 18, 24, 25, 28, 29, 30, 31, 32, 33, 34, 35, 37, 38, 39, 40, 41, 43, 44, 48, 51, 59, 60, 64, 66, 69, 70, 72, 76, 80, 83, 85, 90, 92, 94, 96, 98, 99], 'yellow': [0, 5, 6, 7, 9, 12, 13, 15, 18, 20, 23, 28, 35, 38, 42, 44, 48, 55, 56, 58, 60, 64, 65, 66, 70, 72, 73, 80, 84, 87, 96], 'index': [0, 1, 2, 3, 4, 5, 6, 7, 8, 9, 10, 11, 12, 13, 14, 15, 16, 17, 18, 19, 20, 21, 22, 23, 24, 25, 26, 27, 28, 29, 30, 31, 32, 33, 34, 35, 36, 37, 38, 39, 40, 41, 42, 43, 44, 45, 46, 47, 48, 49, 50, 51, 52, 53, 54, 55, 56, 57, 58, 59, 60, 61, 62, 63, 64, 65, 66, 67, 68, 69, 70, 71, 72, 73, 74, 75, 76, 77, 78, 79, 80, 81, 82, 83, 84, 85, 86, 87, 88, 89, 90, 91, 92, 93, 94, 95, 96, 97, 98, 99]})\n"
     ]
    }
   ],
   "source": [
    "from collections import defaultdict\n",
    "\n",
    "tag_storage = defaultdict(list)\n",
    "\n",
    "for tag in no_dupes:\n",
    "    for index in range(data.shape[0]):\n",
    "        current_tag = data.loc[index, \"tag\"]\n",
    "        if tag in current_tag:\n",
    "            tag_storage[tag].append(index)\n",
    "\n",
    "tag_storage[\"index\"] = list(data.index)\n",
    "\n",
    "print(tag_storage)"
   ]
  },
  {
   "cell_type": "markdown",
   "metadata": {},
   "source": [
    "## Templates"
   ]
  },
  {
   "cell_type": "markdown",
   "metadata": {},
   "source": [
    "### Jumbotron"
   ]
  },
  {
   "cell_type": "code",
   "execution_count": 18,
   "metadata": {},
   "outputs": [],
   "source": [
    "jumbotron_home = '''\n",
    "<div class=\"jumbotron jumbotron-fluid text-center m-0\" style = \"color: '''+jumbotron_foreground+'''; background-color:'''+jumbotron_background+''';\">\n",
    "      <div class=\"container\">\n",
    "        <h1 class=\"display-2\">\n",
    "          Daniels Generated Album\n",
    "        </h1>\n",
    "        <p class=\"lead\">\n",
    "          Something short and leading about the collection below—its contents, the creator, etc. Make it short and sweet, but not too short so folks don't simply skip over it entirely.\n",
    "        </p>\n",
    "        <p>\n",
    "          <a class=\"btn btn-outline-light my-2\" href=\"#\">\n",
    "          Primary\n",
    "          </a>\n",
    "          <a class=\"btn btn-outline-light my-2\" href=\"#\">\n",
    "          Secondary\n",
    "          </a>\n",
    "        </p>\n",
    "      </div>\n",
    "    </div>\n",
    "'''"
   ]
  },
  {
   "cell_type": "markdown",
   "metadata": {},
   "source": [
    "### Pagination - Variable"
   ]
  },
  {
   "cell_type": "code",
   "execution_count": 19,
   "metadata": {},
   "outputs": [],
   "source": [
    "pagination = '<div class = \"text-center pb-4 text-muted bg-light\">\\\n",
    "  <div class = \"btn-group\">\\\n",
    "    <a href = \"{tag}{first}.html\" class = \"btn btn-outline-'+outline_button+' {class1}\">First</a>\\\n",
    "    <a href = \"{tag}{prev}.html\" class = \"btn btn-outline-'+outline_button+' {class1}\">Previous</a>\\\n",
    "    <a class = \"btn btn-outline-'+outline_button+' active\">Page {page}</a>\\\n",
    "    <a href = \"{tag}{next_}.html\" class = \"btn btn-outline-'+outline_button+' {class2}\">Next</a>\\\n",
    "    <a href = \"{tag}{last}.html\"class = \"btn btn-outline-'+outline_button+' {class2}\">Last</a>\\\n",
    "  </div>\\\n",
    "</div>'\n",
    "\n",
    "pagination2 = '''\n",
    "<div class = \"text-center pb-4 text-muted bg-light\">\n",
    "  <div class = \"btn-group\">\n",
    "    <a class = \"btn btn-outline-'+outline_button+' active\">Page {page}</a>\n",
    "  </div>\n",
    "</div>\n",
    "'''"
   ]
  },
  {
   "cell_type": "markdown",
   "metadata": {},
   "source": [
    "### Card "
   ]
  },
  {
   "cell_type": "code",
   "execution_count": 20,
   "metadata": {},
   "outputs": [],
   "source": [
    "card = '''\n",
    "<section class = \"col-lg-4 col-md-6 mb-4\">\\\n",
    "    <div class=\"card\">\\\n",
    "        <div class = \"card-header p-3\" style = \"background-color: {header_background};\">\\\n",
    "            <h5 class = \"p-0 m-0\">Source: {filename}</h5>\\\n",
    "        <div class = \"card-subtitle p-0 m-0 text-muted\">{subtitle}</div>\\\n",
    "        </div>\\\n",
    "        {visual_tag_start}{relative_data_path}{filename}{visual_tag_end}\\\n",
    "        <div class=\"card-body\">\\\n",
    "        <p class=\"card-text\">{text}</p>\\\n",
    "        <div class=\"btn-group p-0 m-0\">\\\n",
    "        <a class=\"btn btn-sm btn-outline-{outline_button}\" href=\"{relative_data_path}{filename}\" role=\"button\">View</a>\\\n",
    "        <a class=\"btn btn-sm btn-outline-{outline_button}\" href =\"{relative_data_path}{filename}\" download = \"{filename}\" role=\"button\">Download</a>\\\n",
    "        </div>\\\n",
    "        </div>\\\n",
    "        <div class = \"p-3 bg-light\">\\\n",
    "        {tags_html_block}\\\n",
    "        </div>\\\n",
    "    </div>\\\n",
    "</section>\n",
    "'''"
   ]
  },
  {
   "cell_type": "markdown",
   "metadata": {},
   "source": [
    "### Skeleton"
   ]
  },
  {
   "cell_type": "code",
   "execution_count": 21,
   "metadata": {},
   "outputs": [],
   "source": [
    "skeleton = '''\n",
    "<!DOCTYPE html>\n",
    "<html lang=\"en\">\n",
    "  <head>\n",
    "    <meta charset=\"utf-8\"/>\n",
    "    <meta content=\"width=device-width, initial-scale=1, shrink-to-fit=no\" name=\"viewport\"/>\n",
    "    <meta content=\"\" name=\"description\"/>\n",
    "    <meta content=\"\" name=\"author\"/>\n",
    "    <link href=\"../../../../favicon.ico\" rel=\"icon\"/>\n",
    "    <title>\n",
    "      Daniels Generated Gallery\n",
    "    </title>\n",
    "    <!-- Bootstrap CSS -->\n",
    "    ''' + set_link + '''\n",
    "    <link crossorigin=\"anonymous\" href=\"https://stackpath.bootstrapcdn.com/bootstrap/4.1.1/css/bootstrap.min.css\" integrity=\"sha384-WskhaSGFgHYWDcbwN70/dfYBj47jz9qbsMId/iRN3ewGhXQFZCSftd1LZCfmhktB\" rel=\"stylesheet\"/>\n",
    "    <!-- Custom styles for this template -->\n",
    "    <link href=\"album.css\" rel=\"stylesheet\"/>\n",
    "  </head>\n",
    "  <body class = \"bg-light\" style = \"'''+set_style+'''\">\n",
    "    <header style = \"background-color:'''+navbar_background+''';\">\n",
    "       <div class=\"container\">\n",
    "        <nav class=\"navbar navbar-expand-lg navbar-dark py-1\" style = \"background-color:'''+navbar_background+''';\">\n",
    "         <a class=\"navbar-brand\" href=\"#\">\n",
    "          <img alt=\"\" class=\"d-inline-block\" height=\"36\" src=\"../logo/analytics.svg\" width=\"36\"/>\n",
    "         </a>\n",
    "         <button aria-controls=\"navbarColor03\" aria-expanded=\"false\" aria-label=\"Toggle navigation\" class=\"navbar-toggler collapsed\" data-target=\"#navbarColor03\" data-toggle=\"collapse\" type=\"button\">\n",
    "          <span class=\"navbar-toggler-icon\">\n",
    "          </span>\n",
    "         </button>\n",
    "         <div class=\"navbar-collapse collapse\" id=\"navbarColor03\" style=\"\">\n",
    "          <ul class=\"navbar-nav mr-auto\">\n",
    "           <li class=\"nav-item active\">\n",
    "            <a class=\"nav-link\" href=\"index0.html\">\n",
    "             Home\n",
    "             <span class=\"sr-only\">\n",
    "              (current)\n",
    "             </span>\n",
    "            </a>\n",
    "           </li>\n",
    "           <li class=\"nav-item\">\n",
    "            <a class=\"nav-link\" href=\"#\">\n",
    "             About\n",
    "            </a>\n",
    "           </li>\n",
    "           <li class=\"nav-item\">\n",
    "            <a class=\"nav-link\" href=\"#\">\n",
    "             Donate\n",
    "            </a>\n",
    "           </li>\n",
    "           <li class=\"nav-item\">\n",
    "            <a class=\"nav-link\" href=\"#\">\n",
    "             Community\n",
    "            </a>\n",
    "           </li>\n",
    "           <li class=\"nav-item\">\n",
    "            <a class=\"nav-link\" href=\"#\">\n",
    "             Contact Us\n",
    "            </a>\n",
    "           </li>\n",
    "          </ul>\n",
    "         </div>\n",
    "    </nav>\n",
    "   </div>\n",
    "  </header>\n",
    "    \n",
    "    \n",
    "    {}\n",
    "    \n",
    "    \n",
    "    \n",
    "    <div class=\"album bg-light\">\n",
    "      <div class=\"container\">\n",
    "        <div class=\"row mt-3\">\n",
    "          \n",
    "          {}\n",
    "        \n",
    "        \n",
    "        </div>\n",
    "      </div>\n",
    "    </div>\n",
    "    \n",
    "    {}\n",
    "    \n",
    "    <footer class=\"text-light py-3\" style = \"background-color: '''+footer_background+''';\">\n",
    "      <div class=\"container\">\n",
    "        <span>&copy; Copyright DanielsGenerator</span>\n",
    "        <span class=\"float-right\">\n",
    "        <a href=\"#\">\n",
    "        Back to top\n",
    "        </a>\n",
    "        </span>\n",
    "      </div>\n",
    "    </footer>\n",
    "    <!-- Optional JavaScript -->\n",
    "    <!-- jQuery first, then Popper.js, then Bootstrap JS -->\n",
    "    <script crossorigin=\"anonymous\" integrity=\"sha384-q8i/X+965DzO0rT7abK41JStQIAqVgRVzpbzo5smXKp4YfRvH+8abtTE1Pi6jizo\" src=\"https://code.jquery.com/jquery-3.3.1.slim.min.js\"></script>\n",
    "    <script crossorigin=\"anonymous\" integrity=\"sha384-ZMP7rVo3mIykV+2+9J3UJ46jBk0WLaUAdn689aCwoqbBJiSnjAK/l8WvCWPIPm49\" src=\"https://cdnjs.cloudflare.com/ajax/libs/popper.js/1.14.3/umd/popper.min.js\"></script>\n",
    "    <script crossorigin=\"anonymous\" integrity=\"sha384-smHYKdLADwkXOn1EmN1qk/HfnUcbVRZyYmZ4qpPea6sjB/pTJ0euyQp0Mk8ck+5T\" src=\"https://stackpath.bootstrapcdn.com/bootstrap/4.1.1/js/bootstrap.min.js\"></script>\n",
    "  </body>\n",
    "</html>\n",
    "'''"
   ]
  },
  {
   "cell_type": "markdown",
   "metadata": {},
   "source": [
    "# Before Generation - Delete all previous `.html`"
   ]
  },
  {
   "cell_type": "code",
   "execution_count": 22,
   "metadata": {},
   "outputs": [
    {
     "data": {
      "text/plain": [
       "[None,\n",
       " None,\n",
       " None,\n",
       " None,\n",
       " None,\n",
       " None,\n",
       " None,\n",
       " None,\n",
       " None,\n",
       " None,\n",
       " None,\n",
       " None,\n",
       " None,\n",
       " None,\n",
       " None,\n",
       " None,\n",
       " None,\n",
       " None,\n",
       " None,\n",
       " None,\n",
       " None,\n",
       " None,\n",
       " None,\n",
       " None,\n",
       " None,\n",
       " None,\n",
       " None,\n",
       " None,\n",
       " None,\n",
       " None,\n",
       " None,\n",
       " None,\n",
       " None,\n",
       " None,\n",
       " None,\n",
       " None,\n",
       " None,\n",
       " None,\n",
       " None,\n",
       " None,\n",
       " None,\n",
       " None,\n",
       " None,\n",
       " None,\n",
       " None,\n",
       " None]"
      ]
     },
     "execution_count": 22,
     "metadata": {},
     "output_type": "execute_result"
    }
   ],
   "source": [
    "[os.remove(html_path + file) for file in os.listdir(html_path) if '.html' in file]"
   ]
  },
  {
   "cell_type": "markdown",
   "metadata": {},
   "source": [
    "# Generate the website\n",
    "\n",
    "\n",
    "- **ITERATE THROUGH EACH TAG `tag_storage` (the higest level)**\n",
    "    - Iterate through every `tag` in `tag_storage` dictionary\n",
    "    - Work out `total_items`, `excess_items`, `total_pages`\n",
    "    - Calculate `nested_page_indices`\n",
    "    \n",
    "\n",
    "- **ITERATE THROUGH EACH PAGE IN `tag_level_items`** (second level, represents html pages, containing `items_per_page` items)\n",
    "    - Calculate `previous_index` and `next_index`, used for pagination linking\n",
    "    - Calculate pagination html\n",
    "    - Calculate which jumbotron variable to use\n",
    "\n",
    "\n",
    "\n",
    "- **ITERATE THROUGH EACH FILE IN `page_items`** (lowest level, represents filenames)\n",
    "    - Calculate `filename` and `filetags` variables\n",
    "    - Calculate html block using `filetags` variable\n",
    "    - Calculate group of bootstrap cards for body (`cards`)"
   ]
  },
  {
   "cell_type": "code",
   "execution_count": 24,
   "metadata": {},
   "outputs": [
    {
     "name": "stdout",
     "output_type": "stream",
     "text": [
      "Processing tag_storage key: black\n",
      "\tFile successfully written to ./html/black0.html\n",
      "\tFile successfully written to ./html/black1.html\n",
      "\tFile successfully written to ./html/black2.html\n",
      "Processing tag_storage key: blue\n",
      "\tFile successfully written to ./html/blue0.html\n",
      "\tFile successfully written to ./html/blue1.html\n",
      "\tFile successfully written to ./html/blue2.html\n",
      "Processing tag_storage key: grey\n",
      "\tFile successfully written to ./html/grey0.html\n",
      "\tFile successfully written to ./html/grey1.html\n",
      "\tFile successfully written to ./html/grey2.html\n",
      "Processing tag_storage key: orange\n",
      "\tFile successfully written to ./html/orange0.html\n",
      "\tFile successfully written to ./html/orange1.html\n",
      "\tFile successfully written to ./html/orange2.html\n",
      "Processing tag_storage key: pink\n",
      "\tFile successfully written to ./html/pink0.html\n",
      "\tFile successfully written to ./html/pink1.html\n",
      "Processing tag_storage key: purple\n",
      "\tFile successfully written to ./html/purple0.html\n",
      "\tFile successfully written to ./html/purple1.html\n",
      "\tFile successfully written to ./html/purple2.html\n",
      "Processing tag_storage key: red\n",
      "\tFile successfully written to ./html/red0.html\n",
      "\tFile successfully written to ./html/red1.html\n",
      "\tFile successfully written to ./html/red2.html\n",
      "Processing tag_storage key: silver\n",
      "\tFile successfully written to ./html/silver0.html\n",
      "\tFile successfully written to ./html/silver1.html\n",
      "\tFile successfully written to ./html/silver2.html\n",
      "Processing tag_storage key: teal\n",
      "\tFile successfully written to ./html/teal0.html\n",
      "\tFile successfully written to ./html/teal1.html\n",
      "\tFile successfully written to ./html/teal2.html\n",
      "Processing tag_storage key: white\n",
      "\tFile successfully written to ./html/white0.html\n",
      "\tFile successfully written to ./html/white1.html\n",
      "\tFile successfully written to ./html/white2.html\n",
      "\tFile successfully written to ./html/white3.html\n",
      "Processing tag_storage key: yellow\n",
      "\tFile successfully written to ./html/yellow0.html\n",
      "\tFile successfully written to ./html/yellow1.html\n",
      "\tFile successfully written to ./html/yellow2.html\n",
      "Processing tag_storage key: index\n",
      "\tFile successfully written to ./html/index0.html\n",
      "\tFile successfully written to ./html/index1.html\n",
      "\tFile successfully written to ./html/index2.html\n",
      "\tFile successfully written to ./html/index3.html\n",
      "\tFile successfully written to ./html/index4.html\n",
      "\tFile successfully written to ./html/index5.html\n",
      "\tFile successfully written to ./html/index6.html\n",
      "\tFile successfully written to ./html/index7.html\n",
      "\tFile successfully written to ./html/index8.html\n"
     ]
    }
   ],
   "source": [
    "#ITERATE THROUGH EACH TAG IN tag_storage\n",
    "\n",
    "for tag, file_list in tag_storage.items():\n",
    "    \n",
    "    print('Processing tag_storage key:', tag)\n",
    "    tag_level_items = cluster(file_list, items_per_page)\n",
    "    \n",
    "    #ITERATE THROUGH EACH PAGE IN tag_level_items\n",
    "\n",
    "    for page_index, page_items in enumerate(tag_level_items):\n",
    "    \n",
    "        # WORK OUT INDEX FOR PAGES LATERALLY\n",
    "        previous_index = page_index - 1\n",
    "        next_index = page_index + 1\n",
    "        total_pages = len(tag_level_items)\n",
    "        last_index = len(tag_level_items)-1\n",
    "        #PAGINATION\n",
    "        if total_pages == 1:\n",
    "            pagination_final = pagination2.format(page=page_index)\n",
    "        else:\n",
    "            if page_index == 0:\n",
    "                pagination_final = pagination.format(tag=tag, first=0, prev=previous_index, page = page_index, \n",
    "                                                     next_ = next_index, last = last_index, class1 = disabled, class2 = nothing)\n",
    "            elif page_index == last_index:\n",
    "                pagination_final = pagination.format(tag=tag, first=0, prev=previous_index, page = page_index, \n",
    "                                                     next_ = next_index, last = last_index, class1 = nothing, class2 = disabled)\n",
    "            else:\n",
    "                pagination_final = pagination.format(tag=tag, first=0, prev=previous_index, page = page_index, \n",
    "                                                     next_ = next_index, last = last_index, class1 = nothing, class2 = nothing)\n",
    "\n",
    "        if page_index == 0:\n",
    "            jumbotron_final = jumbotron_home\n",
    "        else:\n",
    "            jumbotron_final = ''\n",
    "            \n",
    "        # CREATE EMPTY CARDS \n",
    "        cards = ''\n",
    "        \n",
    "        # FILE LEVEL LOOP\n",
    "        for index2, file_index in enumerate(page_items):\n",
    "            \n",
    "            filename = data.loc[file_index, 'filename']\n",
    "            filetags = data.loc[file_index, 'tag']\n",
    "\n",
    "            tags_split = filetags.split(',')\n",
    "            tags_html_block = ''\n",
    "\n",
    "            for tag_name in tags_split:\n",
    "                tags_html_block = tags_html_block + \\\n",
    "                '<a href = \"'+tag_name+'0.html\" class = \"badge badge-pill\" style = \"color:'+ pill_foreground +' ;background-color:'+ pill_background +';\">'+tag_name+'</a>'\n",
    "            \n",
    "            # Generate random text\n",
    "            text = return_random_text(30,40)\n",
    "            subtitle = return_random_text(6,8)\n",
    "            \n",
    "            cards = cards + card.format(filename=filename, header_background=header_background, subtitle=subtitle,\n",
    "                       visual_tag_end=visual_tag_end, visual_tag_start=visual_tag_start, text=text, \n",
    "                       outline_button=outline_button, relative_data_path=relative_data_path, tags_html_block=tags_html_block)\n",
    "            \n",
    "        # BUILD FULL HTML CODE ON PAGE LEVEL\n",
    "        full = skeleton.format(jumbotron_final, cards, pagination_final)\n",
    "\n",
    "        # PRETTIFY/FORMAT THE FULL HTML CODE\n",
    "        full_soup = bs4.BeautifulSoup(full, 'lxml')\n",
    "        full_pretty = full_soup.prettify()\n",
    "\n",
    "        #EXPORT HTML\n",
    "        export_path = './html/{}{}.html'.format(tag, page_index)\n",
    "        \n",
    "        with open(export_path, \"w\") as f:\n",
    "            f.write(full_pretty)\n",
    "            f.close()\n",
    "            print('\\tFile successfully written to', export_path)"
   ]
  },
  {
   "cell_type": "code",
   "execution_count": null,
   "metadata": {},
   "outputs": [],
   "source": []
  }
 ],
 "metadata": {
  "kernelspec": {
   "display_name": "Python 3",
   "language": "python",
   "name": "python3"
  },
  "language_info": {
   "codemirror_mode": {
    "name": "ipython",
    "version": 3
   },
   "file_extension": ".py",
   "mimetype": "text/x-python",
   "name": "python",
   "nbconvert_exporter": "python",
   "pygments_lexer": "ipython3",
   "version": "3.7.2"
  },
  "toc": {
   "base_numbering": 1,
   "nav_menu": {},
   "number_sections": true,
   "sideBar": true,
   "skip_h1_title": false,
   "title_cell": "Table of Contents",
   "title_sidebar": "Contents",
   "toc_cell": false,
   "toc_position": {
    "height": "calc(100% - 180px)",
    "left": "10px",
    "top": "150px",
    "width": "253px"
   },
   "toc_section_display": true,
   "toc_window_display": true
  },
  "varInspector": {
   "cols": {
    "lenName": 16,
    "lenType": 16,
    "lenVar": 40
   },
   "kernels_config": {
    "python": {
     "delete_cmd_postfix": "",
     "delete_cmd_prefix": "del ",
     "library": "var_list.py",
     "varRefreshCmd": "print(var_dic_list())"
    },
    "r": {
     "delete_cmd_postfix": ") ",
     "delete_cmd_prefix": "rm(",
     "library": "var_list.r",
     "varRefreshCmd": "cat(var_dic_list()) "
    }
   },
   "types_to_exclude": [
    "module",
    "function",
    "builtin_function_or_method",
    "instance",
    "_Feature"
   ],
   "window_display": false
  }
 },
 "nbformat": 4,
 "nbformat_minor": 2
}
