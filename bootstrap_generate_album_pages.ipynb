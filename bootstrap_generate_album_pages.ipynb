{
 "cells": [
  {
   "cell_type": "markdown",
   "metadata": {},
   "source": [
    "## Bootstrap generate album pages"
   ]
  },
  {
   "cell_type": "markdown",
   "metadata": {},
   "source": [
    "### Data Sources\n",
    "- https://www.flaticon.com"
   ]
  },
  {
   "cell_type": "markdown",
   "metadata": {},
   "source": [
    "## Setup"
   ]
  },
  {
   "cell_type": "markdown",
   "metadata": {},
   "source": [
    "### Import modules"
   ]
  },
  {
   "cell_type": "code",
   "execution_count": 1,
   "metadata": {},
   "outputs": [],
   "source": [
    "import os\n",
    "import pandas\n",
    "import bs4\n",
    "import math\n",
    "import datetime"
   ]
  },
  {
   "cell_type": "markdown",
   "metadata": {},
   "source": [
    "### Set Variables"
   ]
  },
  {
   "cell_type": "code",
   "execution_count": 2,
   "metadata": {},
   "outputs": [],
   "source": [
    "items_per_page = 9\n",
    "svg = True"
   ]
  },
  {
   "cell_type": "code",
   "execution_count": 3,
   "metadata": {},
   "outputs": [],
   "source": [
    "data_path = \"/users/danielcorcoran/Desktop/github_repos/bootstrap_generate/bus_svg/\""
   ]
  },
  {
   "cell_type": "code",
   "execution_count": 4,
   "metadata": {},
   "outputs": [
    {
     "data": {
      "text/plain": [
       "'bus_svg/'"
      ]
     },
     "execution_count": 4,
     "metadata": {},
     "output_type": "execute_result"
    }
   ],
   "source": [
    "data_path_items = data_path.split(\"/\")\n",
    "data_path_short = data_path_items[len(data_path_items) - 2] + \"/\"\n",
    "data_path_short"
   ]
  },
  {
   "cell_type": "markdown",
   "metadata": {},
   "source": [
    "## Calculate page level details"
   ]
  },
  {
   "cell_type": "markdown",
   "metadata": {},
   "source": [
    "### Create lists to store items for each page as well as all filenames "
   ]
  },
  {
   "cell_type": "code",
   "execution_count": 5,
   "metadata": {},
   "outputs": [],
   "source": [
    "filename_list = []\n",
    "all_filenames = []"
   ]
  },
  {
   "cell_type": "markdown",
   "metadata": {},
   "source": [
    "### Add all filenames to list and sort them"
   ]
  },
  {
   "cell_type": "code",
   "execution_count": 6,
   "metadata": {
    "scrolled": true
   },
   "outputs": [],
   "source": [
    "for filename in os.listdir(data_path):\n",
    "    if \".png\" in filename or \".jpg\" in filename or \".svg\" in filename:\n",
    "        all_filenames.append(filename)\n",
    "    \n",
    "all_filenames = sorted(all_filenames)"
   ]
  },
  {
   "cell_type": "markdown",
   "metadata": {},
   "source": [
    "### Work out total items "
   ]
  },
  {
   "cell_type": "code",
   "execution_count": 7,
   "metadata": {},
   "outputs": [],
   "source": [
    "total_items = len(all_filenames)"
   ]
  },
  {
   "cell_type": "markdown",
   "metadata": {},
   "source": [
    "### Work out excess items"
   ]
  },
  {
   "cell_type": "code",
   "execution_count": 8,
   "metadata": {},
   "outputs": [
    {
     "name": "stdout",
     "output_type": "stream",
     "text": [
      "excess items 8\n"
     ]
    }
   ],
   "source": [
    "excess_items = total_items % items_per_page\n",
    "print(\"excess items\",excess_items)"
   ]
  },
  {
   "cell_type": "markdown",
   "metadata": {},
   "source": [
    "### Work out how many pages required "
   ]
  },
  {
   "cell_type": "code",
   "execution_count": 9,
   "metadata": {},
   "outputs": [
    {
     "name": "stdout",
     "output_type": "stream",
     "text": [
      "total pages 19\n"
     ]
    }
   ],
   "source": [
    "if excess_items > 0:\n",
    "    total_pages = math.floor(total_items/items_per_page) + 1\n",
    "else:\n",
    "    total_pages = total_items/items_per_page\n",
    "    \n",
    "print(\"total pages\", total_pages)"
   ]
  },
  {
   "cell_type": "code",
   "execution_count": 10,
   "metadata": {},
   "outputs": [],
   "source": [
    "index_starter = 0\n",
    "\n",
    "for index in range(total_pages):\n",
    "    small_list = all_filenames[index_starter: index_starter + items_per_page]\n",
    "    filename_list.append(small_list)\n",
    "    index_starter = index_starter + items_per_page"
   ]
  },
  {
   "cell_type": "code",
   "execution_count": 11,
   "metadata": {},
   "outputs": [
    {
     "data": {
      "text/plain": [
       "[['atm-1.svg',\n",
       "  'atm-2.svg',\n",
       "  'atm.svg',\n",
       "  'bag-1.svg',\n",
       "  'bag-2.svg',\n",
       "  'bag-3.svg',\n",
       "  'bag-4.svg',\n",
       "  'bag-5.svg',\n",
       "  'bag-6.svg'],\n",
       " ['bag.svg',\n",
       "  'bank.svg',\n",
       "  'barbershop.svg',\n",
       "  'barcode-1.svg',\n",
       "  'barcode.svg',\n",
       "  'basket-1.svg',\n",
       "  'basket-2.svg',\n",
       "  'basket.svg',\n",
       "  'box-1.svg'],\n",
       " ['box-2.svg',\n",
       "  'box-3.svg',\n",
       "  'box.svg',\n",
       "  'briefcase-1.svg',\n",
       "  'briefcase.svg',\n",
       "  'calculator.svg',\n",
       "  'cart-1.svg',\n",
       "  'cart-10.svg',\n",
       "  'cart-11.svg'],\n",
       " ['cart-12.svg',\n",
       "  'cart-13.svg',\n",
       "  'cart-14.svg',\n",
       "  'cart-15.svg',\n",
       "  'cart-16.svg',\n",
       "  'cart-17.svg',\n",
       "  'cart-2.svg',\n",
       "  'cart-3.svg',\n",
       "  'cart-4.svg'],\n",
       " ['cart-5.svg',\n",
       "  'cart-6.svg',\n",
       "  'cart-7.svg',\n",
       "  'cart-8.svg',\n",
       "  'cart-9.svg',\n",
       "  'cart.svg',\n",
       "  'cashier-1.svg',\n",
       "  'cashier.svg',\n",
       "  'change.svg'],\n",
       " ['check.svg',\n",
       "  'coin-1.svg',\n",
       "  'coin-10.svg',\n",
       "  'coin-2.svg',\n",
       "  'coin-3.svg',\n",
       "  'coin-4.svg',\n",
       "  'coin-5.svg',\n",
       "  'coin-6.svg',\n",
       "  'coin-7.svg'],\n",
       " ['coin-8.svg',\n",
       "  'coin-9.svg',\n",
       "  'coin.svg',\n",
       "  'coins-1.svg',\n",
       "  'coins.svg',\n",
       "  'crate-1.svg',\n",
       "  'crate-2.svg',\n",
       "  'crate-3.svg',\n",
       "  'crate-4.svg'],\n",
       " ['crate-5.svg',\n",
       "  'crate.svg',\n",
       "  'credit-card-1.svg',\n",
       "  'credit-card-2.svg',\n",
       "  'credit-card-3.svg',\n",
       "  'credit-card-4.svg',\n",
       "  'credit-card-5.svg',\n",
       "  'credit-card-6.svg',\n",
       "  'credit-card.svg'],\n",
       " ['delivery-cart-1.svg',\n",
       "  'delivery-cart.svg',\n",
       "  'diagram-1.svg',\n",
       "  'diagram-2.svg',\n",
       "  'diagram-3.svg',\n",
       "  'diagram.svg',\n",
       "  'folder-1.svg',\n",
       "  'folder.svg',\n",
       "  'get-money.svg'],\n",
       " ['graph-1.svg',\n",
       "  'graph-2.svg',\n",
       "  'graph-3.svg',\n",
       "  'graph-4.svg',\n",
       "  'graph-5.svg',\n",
       "  'graph-6.svg',\n",
       "  'graph-7.svg',\n",
       "  'graph-8.svg',\n",
       "  'graph.svg'],\n",
       " ['grocery-1.svg',\n",
       "  'grocery.svg',\n",
       "  'insert-coin.svg',\n",
       "  'investment.svg',\n",
       "  'justice-scale.svg',\n",
       "  'justice.svg',\n",
       "  'megaphone.svg',\n",
       "  'money.svg',\n",
       "  'notes-1.svg'],\n",
       " ['notes-2.svg',\n",
       "  'notes.svg',\n",
       "  'open.svg',\n",
       "  'pack.svg',\n",
       "  'pie-chart-1.svg',\n",
       "  'pie-chart-2.svg',\n",
       "  'pie-chart-3.svg',\n",
       "  'pie-chart-4.svg',\n",
       "  'pie-chart-5.svg'],\n",
       " ['pie-chart-6.svg',\n",
       "  'pie-chart.svg',\n",
       "  'piggy-bank-1.svg',\n",
       "  'piggy-bank.svg',\n",
       "  'point-of-service.svg',\n",
       "  'poor.svg',\n",
       "  'presentation-1.svg',\n",
       "  'presentation-10.svg',\n",
       "  'presentation-11.svg'],\n",
       " ['presentation-12.svg',\n",
       "  'presentation-13.svg',\n",
       "  'presentation-14.svg',\n",
       "  'presentation-15.svg',\n",
       "  'presentation-16.svg',\n",
       "  'presentation-17.svg',\n",
       "  'presentation-18.svg',\n",
       "  'presentation-19.svg',\n",
       "  'presentation-2.svg'],\n",
       " ['presentation-3.svg',\n",
       "  'presentation-4.svg',\n",
       "  'presentation-5.svg',\n",
       "  'presentation-6.svg',\n",
       "  'presentation-7.svg',\n",
       "  'presentation-8.svg',\n",
       "  'presentation-9.svg',\n",
       "  'presentation.svg',\n",
       "  'price-tag-1.svg'],\n",
       " ['price-tag-2.svg',\n",
       "  'price-tag-3.svg',\n",
       "  'price-tag-4.svg',\n",
       "  'price-tag-5.svg',\n",
       "  'price-tag-6.svg',\n",
       "  'price-tag-7.svg',\n",
       "  'price-tag-8.svg',\n",
       "  'price-tag-9.svg',\n",
       "  'price-tag.svg'],\n",
       " ['receipt.svg',\n",
       "  'record.svg',\n",
       "  'rewind-time.svg',\n",
       "  'rich.svg',\n",
       "  'safebox-1.svg',\n",
       "  'safebox-2.svg',\n",
       "  'safebox-3.svg',\n",
       "  'safebox-4.svg',\n",
       "  'safebox.svg'],\n",
       " ['stamp-1.svg',\n",
       "  'stamp.svg',\n",
       "  'stand.svg',\n",
       "  'store-1.svg',\n",
       "  'store-2.svg',\n",
       "  'store-3.svg',\n",
       "  'store.svg',\n",
       "  'strongbox.svg',\n",
       "  'suitcase-1.svg'],\n",
       " ['suitcase-2.svg',\n",
       "  'suitcase.svg',\n",
       "  'time-is-money.svg',\n",
       "  'time-passing.svg',\n",
       "  'wallet-1.svg',\n",
       "  'wallet-2.svg',\n",
       "  'wallet.svg',\n",
       "  'yen.svg']]"
      ]
     },
     "execution_count": 11,
     "metadata": {},
     "output_type": "execute_result"
    }
   ],
   "source": [
    "filename_list"
   ]
  },
  {
   "cell_type": "markdown",
   "metadata": {},
   "source": [
    "## Generate pages"
   ]
  },
  {
   "cell_type": "markdown",
   "metadata": {},
   "source": [
    "### Jumbotron - Variable"
   ]
  },
  {
   "cell_type": "code",
   "execution_count": 12,
   "metadata": {},
   "outputs": [],
   "source": [
    "jumbotron_home = '''\n",
    "<div class=\"jumbotron jumbotron-fluid text-light text-center bg-primary\">\n",
    "      <div class=\"container\">\n",
    "        <h1 class=\"display-2\">\n",
    "          Daniels Generated Album\n",
    "        </h1>\n",
    "        <p class=\"lead\">\n",
    "          Something short and leading about the collection below—its contents, the creator, etc. Make it short and sweet, but not too short so folks don't simply skip over it entirely.\n",
    "        </p>\n",
    "        <p>\n",
    "          <a class=\"btn btn-outline-light my-2\" href=\"#\">\n",
    "          Primary\n",
    "          </a>\n",
    "          <a class=\"btn btn-outline-light my-2\" href=\"#\">\n",
    "          Secondary\n",
    "          </a>\n",
    "        </p>\n",
    "      </div>\n",
    "    </div>\n",
    "'''\n",
    "\n",
    "jumbotron_empty = ''"
   ]
  },
  {
   "cell_type": "markdown",
   "metadata": {},
   "source": [
    "### Pagination - Variable"
   ]
  },
  {
   "cell_type": "code",
   "execution_count": 13,
   "metadata": {},
   "outputs": [],
   "source": [
    "pagination = '''\n",
    "<div class = \"text-center pb-4 text-muted bg-light\">\n",
    "  <div class = \"btn-group\">\n",
    "    <a href = \"pageindex_{}.html\" class = \"btn btn-outline-primary {}\">First</a>\n",
    "    <a href = \"pageindex_{}.html\" class = \"btn btn-outline-primary {}\">Previous</a>\n",
    "    <a class = \"btn btn-outline-primary active\">Page {}</a>\n",
    "    <a href = \"pageindex_{}.html\" class = \"btn btn-outline-primary {}\">Next</a>\n",
    "    <a href = \"pageindex_{}.html\"class = \"btn btn-outline-primary {}\">Last</a>\n",
    "  </div>\n",
    "</div>\n",
    "'''"
   ]
  },
  {
   "cell_type": "markdown",
   "metadata": {},
   "source": [
    "### Skeleton"
   ]
  },
  {
   "cell_type": "code",
   "execution_count": 14,
   "metadata": {},
   "outputs": [],
   "source": [
    "skeleton = '''\n",
    "<!DOCTYPE html>\n",
    "<html lang=\"en\">\n",
    "  <head>\n",
    "    <meta charset=\"utf-8\"/>\n",
    "    <meta content=\"width=device-width, initial-scale=1, shrink-to-fit=no\" name=\"viewport\"/>\n",
    "    <meta content=\"\" name=\"description\"/>\n",
    "    <meta content=\"\" name=\"author\"/>\n",
    "    <link href=\"../../../../favicon.ico\" rel=\"icon\"/>\n",
    "    <title>\n",
    "      Daniels Generated Gallery\n",
    "    </title>\n",
    "    <!-- Bootstrap CSS -->\n",
    "    <link crossorigin=\"anonymous\" href=\"https://stackpath.bootstrapcdn.com/bootstrap/4.1.1/css/bootstrap.min.css\" integrity=\"sha384-WskhaSGFgHYWDcbwN70/dfYBj47jz9qbsMId/iRN3ewGhXQFZCSftd1LZCfmhktB\" rel=\"stylesheet\"/>\n",
    "    <!-- Custom styles for this template -->\n",
    "    <link href=\"album.css\" rel=\"stylesheet\"/>\n",
    "  </head>\n",
    "  <body class = \"bg-light\">\n",
    "    <header class = \"bg-dark\">\n",
    "      <div class = \"container\">\n",
    "      <nav class=\"navbar navbar-expand-lg navbar-dark bg-dark py-3\">\n",
    "        <a class=\"navbar-brand\" href=\"#\">\n",
    "        Gallery\n",
    "        </a>\n",
    "        <button aria-controls=\"navbarColor03\" aria-expanded=\"false\" aria-label=\"Toggle navigation\" class=\"navbar-toggler collapsed\" data-target=\"#navbarColor03\" data-toggle=\"collapse\" type=\"button\">\n",
    "        <span class=\"navbar-toggler-icon\">\n",
    "        </span>\n",
    "        </button>\n",
    "        <div class=\"navbar-collapse collapse\" id=\"navbarColor03\" style=\"\">\n",
    "          <ul class=\"navbar-nav mr-auto\">\n",
    "            <li class=\"nav-item active\">\n",
    "              <a class=\"nav-link\" href=\"pageindex_0.html\">\n",
    "              Home\n",
    "              <span class=\"sr-only\">\n",
    "              (current)\n",
    "              </span>\n",
    "              </a>\n",
    "            </li>\n",
    "            <li class=\"nav-item\">\n",
    "              <a class=\"nav-link\" href=\"#\">\n",
    "              About\n",
    "              </a>\n",
    "            </li>\n",
    "            <li class=\"nav-item\">\n",
    "              <a class=\"nav-link\" href=\"#\">\n",
    "              Contact Us\n",
    "              </a>\n",
    "            </li>\n",
    "          </ul>\n",
    "        </div>\n",
    "      </nav>\n",
    "      </div>\n",
    "    </header>\n",
    "    \n",
    "    \n",
    "    {}\n",
    "    \n",
    "    \n",
    "    \n",
    "    <div class=\"album bg-light\">\n",
    "      <div class=\"container\">\n",
    "        <div class=\"row\">\n",
    "          \n",
    "          {}\n",
    "        \n",
    "        \n",
    "        </div>\n",
    "      </div>\n",
    "    </div>\n",
    "    \n",
    "    {}\n",
    "    \n",
    "    <footer class=\"bg-dark text-light py-3\">\n",
    "      <div class=\"container\">\n",
    "        <span>&copy; Copyright DanielsGenerator</span>\n",
    "        <span class=\"float-right\">\n",
    "        <a href=\"#\">\n",
    "        Back to top\n",
    "        </a>\n",
    "        </span>\n",
    "      </div>\n",
    "    </footer>\n",
    "    <!-- Optional JavaScript -->\n",
    "    <!-- jQuery first, then Popper.js, then Bootstrap JS -->\n",
    "    <script crossorigin=\"anonymous\" integrity=\"sha384-q8i/X+965DzO0rT7abK41JStQIAqVgRVzpbzo5smXKp4YfRvH+8abtTE1Pi6jizo\" src=\"https://code.jquery.com/jquery-3.3.1.slim.min.js\"></script>\n",
    "    <script crossorigin=\"anonymous\" integrity=\"sha384-ZMP7rVo3mIykV+2+9J3UJ46jBk0WLaUAdn689aCwoqbBJiSnjAK/l8WvCWPIPm49\" src=\"https://cdnjs.cloudflare.com/ajax/libs/popper.js/1.14.3/umd/popper.min.js\"></script>\n",
    "    <script crossorigin=\"anonymous\" integrity=\"sha384-smHYKdLADwkXOn1EmN1qk/HfnUcbVRZyYmZ4qpPea6sjB/pTJ0euyQp0Mk8ck+5T\" src=\"https://stackpath.bootstrapcdn.com/bootstrap/4.1.1/js/bootstrap.min.js\"></script>\n",
    "  </body>\n",
    "</html>\n",
    "'''"
   ]
  },
  {
   "cell_type": "markdown",
   "metadata": {},
   "source": [
    "### Calculate first and last page index"
   ]
  },
  {
   "cell_type": "code",
   "execution_count": 15,
   "metadata": {},
   "outputs": [],
   "source": [
    "first_index = 0\n",
    "last_index = len(filename_list) - 1\n",
    "nothing = ''\n",
    "disabled = 'disabled'"
   ]
  },
  {
   "cell_type": "markdown",
   "metadata": {},
   "source": [
    "### SVG flag, if True use object tag, if false use img tag"
   ]
  },
  {
   "cell_type": "code",
   "execution_count": 16,
   "metadata": {},
   "outputs": [],
   "source": [
    "if svg == True:\n",
    "    visual_tag_start = '<object class = \"p-3\" type=\"image/svg+xml\" data=\"'\n",
    "    visual_tag_end = '\">Your browser does not support SVG</object>'\n",
    "else:\n",
    "    visual_tag_start = '<img class=\"card-img-top p-3\" src=\"'\n",
    "    visual_tag_end = '\" alt=\"Card image cap\">'"
   ]
  },
  {
   "cell_type": "markdown",
   "metadata": {},
   "source": [
    "## Generate"
   ]
  },
  {
   "cell_type": "code",
   "execution_count": 17,
   "metadata": {},
   "outputs": [],
   "source": [
    "for index in range(len(filename_list)):\n",
    "    \n",
    "    previous_index = index -1\n",
    "    next_index = index +1\n",
    "    \n",
    "    body_final = ''\n",
    "    page_items = filename_list[index]\n",
    "    page_number = index + 1\n",
    "    \n",
    "    if index ==0:\n",
    "        pagination_final = pagination.format(first_index, disabled, previous_index, disabled, page_number,\n",
    "                                            next_index, nothing, last_index, nothing)\n",
    "    elif index == last_index:\n",
    "        pagination_final = pagination.format(first_index, nothing, previous_index, nothing, page_number,\n",
    "                                            next_index, disabled, last_index, disabled)\n",
    "    else:\n",
    "        pagination_final = pagination.format(first_index, nothing, previous_index, nothing, page_number,\n",
    "                                            next_index, nothing, last_index, nothing)\n",
    "    \n",
    "    if index == 0:\n",
    "        jumbotron_final = jumbotron_home\n",
    "    else:\n",
    "        jumbotron_final = jumbotron_empty\n",
    "    \n",
    "    \n",
    "    for sub_index in range(len(page_items)):\n",
    "        \n",
    "        filename = page_items[sub_index]\n",
    "        \n",
    "        if sub_index <=2:\n",
    "            optional_top_margin = 'mt-4'\n",
    "        else:\n",
    "            optional_top_margin = ''\n",
    "            \n",
    "        filename_short = filename.replace(\".png\", \"\")\n",
    "\n",
    "        body_final = body_final + '<div class=\"col-md-4\">\\\n",
    "                  <div class=\"card mb-4 ' + optional_top_margin+'\">\\\n",
    "                  ' + visual_tag_start + data_path_short + filename + visual_tag_end + '\\\n",
    "                    <div class=\"card-body\">\\\n",
    "                      <h4 class = \"text-primary\">'+filename_short+'</h4>\\\n",
    "                      <p class=\"card-text\">This is a wider card with supporting text below as a natural lead-in to additional content. This content is a little bit longer.</p>\\\n",
    "                      <div class=\"d-flex justify-content-between align-items-center\">\\\n",
    "                        <div class=\"btn-group\">\\\n",
    "                          <a class=\"btn btn-sm btn-outline-primary\" href=\"'+data_path_short + filename+'\" role=\"button\">View</a>\\\n",
    "                          <a class=\"btn btn-sm btn-outline-primary\" href = \"'+data_path_short + filename+'\" download = \"'+filename+'\" role=\"button\">Download</a>\\\n",
    "                            </div>\\\n",
    "                      </div>\\\n",
    "                    </div>\\\n",
    "                  </div>\\\n",
    "                </div>'\n",
    "    \n",
    "    full = skeleton.format(jumbotron_final, \n",
    "                           body_final, \n",
    "                           pagination_final)\n",
    "    \n",
    "    full_soup = bs4.BeautifulSoup(full, \"lxml\")\n",
    "    full_pretty = full_soup.prettify()\n",
    "\n",
    "    with open(\"/users/danielcorcoran/desktop/github_repos/bootstrap_generate/pageindex_\"+str(index)+\".html\", \"w\") as fileobject:\n",
    "        fileobject.write(full_pretty)\n",
    "\n",
    "    fileobject.close()"
   ]
  }
 ],
 "metadata": {
  "kernelspec": {
   "display_name": "Python 3",
   "language": "python",
   "name": "python3"
  },
  "language_info": {
   "codemirror_mode": {
    "name": "ipython",
    "version": 3
   },
   "file_extension": ".py",
   "mimetype": "text/x-python",
   "name": "python",
   "nbconvert_exporter": "python",
   "pygments_lexer": "ipython3",
   "version": "3.6.5"
  },
  "toc": {
   "base_numbering": 1,
   "nav_menu": {},
   "number_sections": true,
   "sideBar": true,
   "skip_h1_title": false,
   "title_cell": "Table of Contents",
   "title_sidebar": "Contents",
   "toc_cell": false,
   "toc_position": {},
   "toc_section_display": true,
   "toc_window_display": false
  },
  "varInspector": {
   "cols": {
    "lenName": 16,
    "lenType": 16,
    "lenVar": 40
   },
   "kernels_config": {
    "python": {
     "delete_cmd_postfix": "",
     "delete_cmd_prefix": "del ",
     "library": "var_list.py",
     "varRefreshCmd": "print(var_dic_list())"
    },
    "r": {
     "delete_cmd_postfix": ") ",
     "delete_cmd_prefix": "rm(",
     "library": "var_list.r",
     "varRefreshCmd": "cat(var_dic_list()) "
    }
   },
   "types_to_exclude": [
    "module",
    "function",
    "builtin_function_or_method",
    "instance",
    "_Feature"
   ],
   "window_display": false
  }
 },
 "nbformat": 4,
 "nbformat_minor": 2
}
