{
 "cells": [
  {
   "cell_type": "markdown",
   "metadata": {},
   "source": [
    "## Bootstrap generate album pages"
   ]
  },
  {
   "cell_type": "markdown",
   "metadata": {},
   "source": [
    "## Setup"
   ]
  },
  {
   "cell_type": "markdown",
   "metadata": {},
   "source": [
    "### Import modules"
   ]
  },
  {
   "cell_type": "code",
   "execution_count": 1,
   "metadata": {},
   "outputs": [],
   "source": [
    "import os\n",
    "import pandas\n",
    "import bs4\n",
    "import math\n",
    "import datetime"
   ]
  },
  {
   "cell_type": "markdown",
   "metadata": {},
   "source": [
    "### Set Variables"
   ]
  },
  {
   "cell_type": "code",
   "execution_count": 2,
   "metadata": {},
   "outputs": [],
   "source": [
    "item_per_page = 9"
   ]
  },
  {
   "cell_type": "code",
   "execution_count": 3,
   "metadata": {},
   "outputs": [],
   "source": [
    "data_path = \"/users/danielcorcoran/Desktop/github_repos/bootstrap_generate/bus_png/\""
   ]
  },
  {
   "cell_type": "markdown",
   "metadata": {},
   "source": [
    "## Calculate page level details"
   ]
  },
  {
   "cell_type": "markdown",
   "metadata": {},
   "source": [
    "### Create lists to store items for each page as well as all filenames "
   ]
  },
  {
   "cell_type": "code",
   "execution_count": 4,
   "metadata": {},
   "outputs": [],
   "source": [
    "filename_list = []\n",
    "all_filenames = []"
   ]
  },
  {
   "cell_type": "markdown",
   "metadata": {},
   "source": [
    "### Add all filenames to list and sort them"
   ]
  },
  {
   "cell_type": "code",
   "execution_count": 5,
   "metadata": {
    "scrolled": true
   },
   "outputs": [],
   "source": [
    "for filename in os.listdir(data_path):\n",
    "    all_filenames.append(filename)\n",
    "    \n",
    "all_filenames = sorted(all_filenames)"
   ]
  },
  {
   "cell_type": "markdown",
   "metadata": {},
   "source": [
    "### Work out total items "
   ]
  },
  {
   "cell_type": "code",
   "execution_count": 6,
   "metadata": {},
   "outputs": [],
   "source": [
    "total_items = len(all_filenames)"
   ]
  },
  {
   "cell_type": "markdown",
   "metadata": {},
   "source": [
    "### Work out excess items"
   ]
  },
  {
   "cell_type": "code",
   "execution_count": 7,
   "metadata": {},
   "outputs": [
    {
     "name": "stdout",
     "output_type": "stream",
     "text": [
      "excess items 8\n"
     ]
    }
   ],
   "source": [
    "excess_items = total_items % item_per_page\n",
    "print(\"excess items\",excess_items)"
   ]
  },
  {
   "cell_type": "markdown",
   "metadata": {},
   "source": [
    "### Work out how many pages required "
   ]
  },
  {
   "cell_type": "code",
   "execution_count": 8,
   "metadata": {},
   "outputs": [
    {
     "name": "stdout",
     "output_type": "stream",
     "text": [
      "total pages 19\n"
     ]
    }
   ],
   "source": [
    "if excess_items > 0:\n",
    "    total_pages = math.floor(total_items/item_per_page) + 1\n",
    "else:\n",
    "    total_pages = total_items/item_per_page\n",
    "    \n",
    "print(\"total pages\", total_pages)"
   ]
  },
  {
   "cell_type": "code",
   "execution_count": 9,
   "metadata": {},
   "outputs": [],
   "source": [
    "index_starter = 0\n",
    "\n",
    "for index in range(total_pages):\n",
    "    small_list = all_filenames[index_starter: index_starter + 9]\n",
    "    filename_list.append(small_list)\n",
    "    index_starter = index_starter + 9"
   ]
  },
  {
   "cell_type": "code",
   "execution_count": 10,
   "metadata": {},
   "outputs": [
    {
     "data": {
      "text/plain": [
       "[['atm-1.png',\n",
       "  'atm-2.png',\n",
       "  'atm.png',\n",
       "  'bag-1.png',\n",
       "  'bag-2.png',\n",
       "  'bag-3.png',\n",
       "  'bag-4.png',\n",
       "  'bag-5.png',\n",
       "  'bag-6.png'],\n",
       " ['bag.png',\n",
       "  'bank.png',\n",
       "  'barbershop.png',\n",
       "  'barcode-1.png',\n",
       "  'barcode.png',\n",
       "  'basket-1.png',\n",
       "  'basket-2.png',\n",
       "  'basket.png',\n",
       "  'box-1.png'],\n",
       " ['box-2.png',\n",
       "  'box-3.png',\n",
       "  'box.png',\n",
       "  'briefcase-1.png',\n",
       "  'briefcase.png',\n",
       "  'calculator.png',\n",
       "  'cart-1.png',\n",
       "  'cart-10.png',\n",
       "  'cart-11.png'],\n",
       " ['cart-12.png',\n",
       "  'cart-13.png',\n",
       "  'cart-14.png',\n",
       "  'cart-15.png',\n",
       "  'cart-16.png',\n",
       "  'cart-17.png',\n",
       "  'cart-2.png',\n",
       "  'cart-3.png',\n",
       "  'cart-4.png'],\n",
       " ['cart-5.png',\n",
       "  'cart-6.png',\n",
       "  'cart-7.png',\n",
       "  'cart-8.png',\n",
       "  'cart-9.png',\n",
       "  'cart.png',\n",
       "  'cashier-1.png',\n",
       "  'cashier.png',\n",
       "  'change.png'],\n",
       " ['check.png',\n",
       "  'coin-1.png',\n",
       "  'coin-10.png',\n",
       "  'coin-2.png',\n",
       "  'coin-3.png',\n",
       "  'coin-4.png',\n",
       "  'coin-5.png',\n",
       "  'coin-6.png',\n",
       "  'coin-7.png'],\n",
       " ['coin-8.png',\n",
       "  'coin-9.png',\n",
       "  'coin.png',\n",
       "  'coins-1.png',\n",
       "  'coins.png',\n",
       "  'crate-1.png',\n",
       "  'crate-2.png',\n",
       "  'crate-3.png',\n",
       "  'crate-4.png'],\n",
       " ['crate-5.png',\n",
       "  'crate.png',\n",
       "  'credit-card-1.png',\n",
       "  'credit-card-2.png',\n",
       "  'credit-card-3.png',\n",
       "  'credit-card-4.png',\n",
       "  'credit-card-5.png',\n",
       "  'credit-card-6.png',\n",
       "  'credit-card.png'],\n",
       " ['delivery-cart-1.png',\n",
       "  'delivery-cart.png',\n",
       "  'diagram-1.png',\n",
       "  'diagram-2.png',\n",
       "  'diagram-3.png',\n",
       "  'diagram.png',\n",
       "  'folder-1.png',\n",
       "  'folder.png',\n",
       "  'get-money.png'],\n",
       " ['graph-1.png',\n",
       "  'graph-2.png',\n",
       "  'graph-3.png',\n",
       "  'graph-4.png',\n",
       "  'graph-5.png',\n",
       "  'graph-6.png',\n",
       "  'graph-7.png',\n",
       "  'graph-8.png',\n",
       "  'graph.png'],\n",
       " ['grocery-1.png',\n",
       "  'grocery.png',\n",
       "  'insert-coin.png',\n",
       "  'investment.png',\n",
       "  'justice-scale.png',\n",
       "  'justice.png',\n",
       "  'megaphone.png',\n",
       "  'money.png',\n",
       "  'notes-1.png'],\n",
       " ['notes-2.png',\n",
       "  'notes.png',\n",
       "  'open.png',\n",
       "  'pack.png',\n",
       "  'pie-chart-1.png',\n",
       "  'pie-chart-2.png',\n",
       "  'pie-chart-3.png',\n",
       "  'pie-chart-4.png',\n",
       "  'pie-chart-5.png'],\n",
       " ['pie-chart-6.png',\n",
       "  'pie-chart.png',\n",
       "  'piggy-bank-1.png',\n",
       "  'piggy-bank.png',\n",
       "  'point-of-service.png',\n",
       "  'poor.png',\n",
       "  'presentation-1.png',\n",
       "  'presentation-10.png',\n",
       "  'presentation-11.png'],\n",
       " ['presentation-12.png',\n",
       "  'presentation-13.png',\n",
       "  'presentation-14.png',\n",
       "  'presentation-15.png',\n",
       "  'presentation-16.png',\n",
       "  'presentation-17.png',\n",
       "  'presentation-18.png',\n",
       "  'presentation-19.png',\n",
       "  'presentation-2.png'],\n",
       " ['presentation-3.png',\n",
       "  'presentation-4.png',\n",
       "  'presentation-5.png',\n",
       "  'presentation-6.png',\n",
       "  'presentation-7.png',\n",
       "  'presentation-8.png',\n",
       "  'presentation-9.png',\n",
       "  'presentation.png',\n",
       "  'price-tag-1.png'],\n",
       " ['price-tag-2.png',\n",
       "  'price-tag-3.png',\n",
       "  'price-tag-4.png',\n",
       "  'price-tag-5.png',\n",
       "  'price-tag-6.png',\n",
       "  'price-tag-7.png',\n",
       "  'price-tag-8.png',\n",
       "  'price-tag-9.png',\n",
       "  'price-tag.png'],\n",
       " ['receipt.png',\n",
       "  'record.png',\n",
       "  'rewind-time.png',\n",
       "  'rich.png',\n",
       "  'safebox-1.png',\n",
       "  'safebox-2.png',\n",
       "  'safebox-3.png',\n",
       "  'safebox-4.png',\n",
       "  'safebox.png'],\n",
       " ['stamp-1.png',\n",
       "  'stamp.png',\n",
       "  'stand.png',\n",
       "  'store-1.png',\n",
       "  'store-2.png',\n",
       "  'store-3.png',\n",
       "  'store.png',\n",
       "  'strongbox.png',\n",
       "  'suitcase-1.png'],\n",
       " ['suitcase-2.png',\n",
       "  'suitcase.png',\n",
       "  'time-is-money.png',\n",
       "  'time-passing.png',\n",
       "  'wallet-1.png',\n",
       "  'wallet-2.png',\n",
       "  'wallet.png',\n",
       "  'yen.png']]"
      ]
     },
     "execution_count": 10,
     "metadata": {},
     "output_type": "execute_result"
    }
   ],
   "source": [
    "filename_list"
   ]
  },
  {
   "cell_type": "markdown",
   "metadata": {},
   "source": [
    "## Generate pages"
   ]
  },
  {
   "cell_type": "code",
   "execution_count": 12,
   "metadata": {},
   "outputs": [],
   "source": [
    "header = '''\n",
    "<!doctype html>\n",
    "<html lang=\"en\">\n",
    "  <head>\n",
    "    <meta charset=\"utf-8\">\n",
    "    <meta name=\"viewport\" content=\"width=device-width, initial-scale=1, shrink-to-fit=no\">\n",
    "    <meta name=\"description\" content=\"\">\n",
    "    <meta name=\"author\" content=\"\">\n",
    "    <link rel=\"icon\" href=\"../../../../favicon.ico\">\n",
    "\n",
    "    <title>Album example for Bootstrap</title>\n",
    "\n",
    "    <!-- Bootstrap CSS -->\n",
    "    <link rel=\"stylesheet\" href=\"https://stackpath.bootstrapcdn.com/bootstrap/4.1.1/css/bootstrap.min.css\" integrity=\"sha384-WskhaSGFgHYWDcbwN70/dfYBj47jz9qbsMId/iRN3ewGhXQFZCSftd1LZCfmhktB\" crossorigin=\"anonymous\">\n",
    "\n",
    "    <!-- Custom styles for this template -->\n",
    "    <link href=\"album.css\" rel=\"stylesheet\">\n",
    "  </head>\n",
    "\n",
    "  <body>\n",
    "\n",
    "    <header>\n",
    "      <div class=\"collapse bg-dark\" id=\"navbarHeader\">\n",
    "        <div class=\"container\">\n",
    "          <div class=\"row\">\n",
    "\n",
    "\n",
    "            <div class=\"col-sm-8 col-md-7 py-4\">\n",
    "              <h4 class=\"text-white\">About</h4>\n",
    "              <p class=\"text-muted\">Add some information about the album below, the author, or any other background context. Make it a few sentences long so folks can pick up some informative tidbits. Then, link them off to some social networking sites or contact information.</p>\n",
    "            </div>\n",
    "            <div class=\"col-sm-4 offset-md-1 py-4\">\n",
    "              <h4 class=\"text-white\">Contact</h4>\n",
    "              <ul class=\"list-unstyled\">\n",
    "                <li><a href=\"#\" class=\"text-white\">Follow on Twitter</a></li>\n",
    "                <li><a href=\"#\" class=\"text-white\">Like on Facebook</a></li>\n",
    "                <li><a href=\"#\" class=\"text-white\">Email me</a></li>\n",
    "              </ul>\n",
    "            </div>\n",
    "          </div>\n",
    "        </div>\n",
    "      </div>\n",
    "      <div class=\"navbar navbar-dark bg-dark box-shadow\">\n",
    "        <div class=\"container d-flex justify-content-between\">\n",
    "          <a href=\"#\" class=\"navbar-brand d-flex align-items-center\">\n",
    "            <svg xmlns=\"http://www.w3.org/2000/svg\" width=\"20\" height=\"20\" viewBox=\"0 0 24 24\" fill=\"none\" stroke=\"currentColor\" stroke-width=\"2\" stroke-linecap=\"round\" stroke-linejoin=\"round\" class=\"mr-2\"><path d=\"M23 19a2 2 0 0 1-2 2H3a2 2 0 0 1-2-2V8a2 2 0 0 1 2-2h4l2-3h6l2 3h4a2 2 0 0 1 2 2z\"></path><circle cx=\"12\" cy=\"13\" r=\"4\"></circle></svg>\n",
    "            <strong>Album</strong>\n",
    "          </a>\n",
    "          <button class=\"navbar-toggler\" type=\"button\" data-toggle=\"collapse\" data-target=\"#navbarHeader\" aria-controls=\"navbarHeader\" aria-expanded=\"false\" aria-label=\"Toggle navigation\">\n",
    "            <span class=\"navbar-toggler-icon\"></span>\n",
    "          </button>\n",
    "        </div>\n",
    "      </div>\n",
    "    </header>\n",
    "\n",
    "    <main role=\"main\">\n",
    "\n",
    "      <section class=\"jumbotron text-light text-center bg-primary\">\n",
    "        <div class=\"container\">\n",
    "          <h1 class=\"display-2\">Daniels Generated Album</h1>\n",
    "          <p class=\"lead\">Something short and leading about the collection below—its contents, the creator, etc. Make it short and sweet, but not too short so folks don't simply skip over it entirely.</p>\n",
    "          <p>\n",
    "            <a href=\"#\" class=\"btn btn-outline-light my-2\" >Primary</a>\n",
    "            <a href=\"#\" class=\"btn btn-outline-light my-2\" >Secondary</a>\n",
    "          </p>\n",
    "        </div>\n",
    "      </section>\n",
    "\n",
    "      <div class=\"album py-5 bg-light\">\n",
    "        <div class=\"container\">\n",
    "          <div class=\"row\">\n",
    "'''"
   ]
  },
  {
   "cell_type": "code",
   "execution_count": 13,
   "metadata": {},
   "outputs": [],
   "source": [
    "footer = \"\"\"\n",
    "          </div>\n",
    "        </div>\n",
    "      </div>\n",
    "\n",
    "    </main>\n",
    "\n",
    "    <footer class=\"text-muted\">\n",
    "      <div class=\"container\">\n",
    "        <p class=\"float-right\">\n",
    "          <a href=\"#\">Back to top</a>\n",
    "        </p>\n",
    "        <p>Album example is &copy; Bootstrap, but please download and customize it for yourself!</p>\n",
    "        <p>New to Bootstrap? <a href=\"../../\">Visit the homepage</a> or read our <a href=\"../../getting-started/\">getting started guide</a>.</p>\n",
    "      </div>\n",
    "    </footer>\n",
    "\n",
    "    <!-- Optional JavaScript -->\n",
    "    <!-- jQuery first, then Popper.js, then Bootstrap JS -->\n",
    "    <script src=\"https://code.jquery.com/jquery-3.3.1.slim.min.js\" integrity=\"sha384-q8i/X+965DzO0rT7abK41JStQIAqVgRVzpbzo5smXKp4YfRvH+8abtTE1Pi6jizo\" crossorigin=\"anonymous\"></script>\n",
    "    <script src=\"https://cdnjs.cloudflare.com/ajax/libs/popper.js/1.14.3/umd/popper.min.js\" integrity=\"sha384-ZMP7rVo3mIykV+2+9J3UJ46jBk0WLaUAdn689aCwoqbBJiSnjAK/l8WvCWPIPm49\" crossorigin=\"anonymous\"></script>\n",
    "    <script src=\"https://stackpath.bootstrapcdn.com/bootstrap/4.1.1/js/bootstrap.min.js\" integrity=\"sha384-smHYKdLADwkXOn1EmN1qk/HfnUcbVRZyYmZ4qpPea6sjB/pTJ0euyQp0Mk8ck+5T\" crossorigin=\"anonymous\"></script>\n",
    "  </body>\n",
    "</html>\n",
    "\n",
    "\"\"\""
   ]
  },
  {
   "cell_type": "code",
   "execution_count": 14,
   "metadata": {},
   "outputs": [],
   "source": [
    "for index in range(len(filename_list)):\n",
    "    \n",
    "    body = ''\n",
    "    page_items = filename_list[index]\n",
    "    \n",
    "    for filename in page_items:\n",
    "\n",
    "        filename_short = filename.replace(\".png\", \"\")\n",
    "\n",
    "        body = body + '<div class=\"col-md-4\">\\\n",
    "                  <div class=\"card mb-4\">\\\n",
    "                    <img class=\"card-img-top\" src=\"bus_png/' + filename + '\" alt=\"Card image cap\" style = \"padding : 35px;\">\\\n",
    "                    <div class=\"card-body\">\\\n",
    "                      <h4 class = \"text-primary\">'+filename_short+'</h4>\\\n",
    "                      <p class=\"card-text\">This is a wider card with supporting text below as a natural lead-in to additional content. This content is a little bit longer.</p>\\\n",
    "                      <div class=\"d-flex justify-content-between align-items-center\">\\\n",
    "                        <div class=\"btn-group\">\\\n",
    "                          <a class=\"btn btn-sm btn-outline-primary\" href=\"bus_png/'+filename+'\" role=\"button\">View</a>\\\n",
    "                          <a class=\"btn btn-sm btn-outline-primary\" href = \"bus_png/'+filename+'\" download = \"'+filename+'\" role=\"button\">Download</a>\\\n",
    "                            </div>\\\n",
    "                      </div>\\\n",
    "                    </div>\\\n",
    "                  </div>\\\n",
    "                </div>'\n",
    "    \n",
    "    full = header + body + footer\n",
    "    full_soup = bs4.BeautifulSoup(full, \"lxml\")\n",
    "    full_pretty = full_soup.prettify()\n",
    "\n",
    "    with open(\"/users/danielcorcoran/desktop/github_repos/bootstrap_generate/pageindex_\"+str(index)+\".html\", \"w\") as fileobject:\n",
    "        fileobject.write(full_pretty)\n",
    "\n",
    "    fileobject.close()"
   ]
  },
  {
   "cell_type": "code",
   "execution_count": null,
   "metadata": {},
   "outputs": [],
   "source": []
  }
 ],
 "metadata": {
  "kernelspec": {
   "display_name": "Python 3",
   "language": "python",
   "name": "python3"
  },
  "language_info": {
   "codemirror_mode": {
    "name": "ipython",
    "version": 3
   },
   "file_extension": ".py",
   "mimetype": "text/x-python",
   "name": "python",
   "nbconvert_exporter": "python",
   "pygments_lexer": "ipython3",
   "version": "3.6.5"
  },
  "toc": {
   "base_numbering": 1,
   "nav_menu": {},
   "number_sections": true,
   "sideBar": true,
   "skip_h1_title": false,
   "title_cell": "Table of Contents",
   "title_sidebar": "Contents",
   "toc_cell": false,
   "toc_position": {},
   "toc_section_display": true,
   "toc_window_display": false
  },
  "varInspector": {
   "cols": {
    "lenName": 16,
    "lenType": 16,
    "lenVar": 40
   },
   "kernels_config": {
    "python": {
     "delete_cmd_postfix": "",
     "delete_cmd_prefix": "del ",
     "library": "var_list.py",
     "varRefreshCmd": "print(var_dic_list())"
    },
    "r": {
     "delete_cmd_postfix": ") ",
     "delete_cmd_prefix": "rm(",
     "library": "var_list.r",
     "varRefreshCmd": "cat(var_dic_list()) "
    }
   },
   "types_to_exclude": [
    "module",
    "function",
    "builtin_function_or_method",
    "instance",
    "_Feature"
   ],
   "window_display": false
  }
 },
 "nbformat": 4,
 "nbformat_minor": 2
}
